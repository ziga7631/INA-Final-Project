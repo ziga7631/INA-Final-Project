{
 "cells": [
  {
   "attachments": {},
   "cell_type": "markdown",
   "metadata": {},
   "source": [
    "# Personalized PageRank on multipartite graph"
   ]
  },
  {
   "cell_type": "code",
   "execution_count": 1,
   "metadata": {},
   "outputs": [],
   "source": [
    "import sys\n",
    "sys.path.append(\"..\")\n",
    "import pandas as pd\n",
    "import numpy as np\n",
    "import matplotlib.pyplot as plt\n",
    "import seaborn as sns\n",
    "from IPython.display import display\n",
    "import math\n",
    "import networkx\n",
    "from networkx.algorithms import bipartite\n",
    "\n",
    "from data.data_helper_functions import *"
   ]
  },
  {
   "cell_type": "code",
   "execution_count": 2,
   "metadata": {},
   "outputs": [],
   "source": [
    "%load_ext autoreload\n",
    "%autoreload 2"
   ]
  },
  {
   "attachments": {},
   "cell_type": "markdown",
   "metadata": {},
   "source": [
    "Load a Multipartite Graph"
   ]
  },
  {
   "cell_type": "code",
   "execution_count": 3,
   "metadata": {},
   "outputs": [],
   "source": [
    "data_path = '../data/'\n",
    "books_df, users_df, ratings_df = load_data(data_path)\n",
    "# G = load_multipartite_graph(books_df, users_df, ratings_df)\n",
    "\n",
    "train_df, test_df = split_ratings_by_user(ratings_df, test_size = 0.2, random_state=0)\n",
    "G = load_multipartite_graph(books_df, users_df, train_df, create=True)"
   ]
  },
  {
   "attachments": {},
   "cell_type": "markdown",
   "metadata": {},
   "source": [
    "### Personalized PageRank"
   ]
  },
  {
   "cell_type": "code",
   "execution_count": 4,
   "metadata": {},
   "outputs": [
    {
     "name": "stdout",
     "output_type": "stream",
     "text": [
      "Top rated books by user:\n"
     ]
    },
    {
     "data": {
      "text/html": [
       "<div>\n",
       "<style scoped>\n",
       "    .dataframe tbody tr th:only-of-type {\n",
       "        vertical-align: middle;\n",
       "    }\n",
       "\n",
       "    .dataframe tbody tr th {\n",
       "        vertical-align: top;\n",
       "    }\n",
       "\n",
       "    .dataframe thead th {\n",
       "        text-align: right;\n",
       "    }\n",
       "</style>\n",
       "<table border=\"1\" class=\"dataframe\">\n",
       "  <thead>\n",
       "    <tr style=\"text-align: right;\">\n",
       "      <th></th>\n",
       "      <th>book_id</th>\n",
       "      <th>title</th>\n",
       "      <th>authors</th>\n",
       "      <th>average_rating</th>\n",
       "      <th>rating</th>\n",
       "      <th>genres</th>\n",
       "      <th>year</th>\n",
       "      <th>language</th>\n",
       "      <th>pages</th>\n",
       "    </tr>\n",
       "  </thead>\n",
       "  <tbody>\n",
       "    <tr>\n",
       "      <th>339570</th>\n",
       "      <td>3409</td>\n",
       "      <td>O vencedor está só</td>\n",
       "      <td>Paulo Coelho</td>\n",
       "      <td>3.37</td>\n",
       "      <td>5</td>\n",
       "      <td>['christian', 'nonfiction', 'religion', 'spiri...</td>\n",
       "      <td>2008.0</td>\n",
       "      <td>eng</td>\n",
       "      <td>224.0</td>\n",
       "    </tr>\n",
       "    <tr>\n",
       "      <th>392628</th>\n",
       "      <td>3946</td>\n",
       "      <td>Matterhorn: A Novel of the Vietnam War</td>\n",
       "      <td>Karl Marlantes</td>\n",
       "      <td>4.25</td>\n",
       "      <td>5</td>\n",
       "      <td>['young-adult', 'horror', 'fiction', 'fantasy'...</td>\n",
       "      <td>2009.0</td>\n",
       "      <td>eng</td>\n",
       "      <td>458.0</td>\n",
       "    </tr>\n",
       "    <tr>\n",
       "      <th>686883</th>\n",
       "      <td>7002</td>\n",
       "      <td>A Mercy</td>\n",
       "      <td>Toni Morrison</td>\n",
       "      <td>3.65</td>\n",
       "      <td>5</td>\n",
       "      <td>['historical-fiction', 'fiction', 'romance']</td>\n",
       "      <td>2008.0</td>\n",
       "      <td>eng</td>\n",
       "      <td>368.0</td>\n",
       "    </tr>\n",
       "    <tr>\n",
       "      <th>150393</th>\n",
       "      <td>1506</td>\n",
       "      <td>O Zahir</td>\n",
       "      <td>Paulo Coelho, Margaret Jull Costa</td>\n",
       "      <td>3.56</td>\n",
       "      <td>4</td>\n",
       "      <td>['classics', 'historical-fiction', 'fiction', ...</td>\n",
       "      <td>2005.0</td>\n",
       "      <td>eng</td>\n",
       "      <td>541.0</td>\n",
       "    </tr>\n",
       "    <tr>\n",
       "      <th>282522</th>\n",
       "      <td>2833</td>\n",
       "      <td>El prisionero del cielo</td>\n",
       "      <td>Carlos Ruiz Zafón</td>\n",
       "      <td>3.96</td>\n",
       "      <td>4</td>\n",
       "      <td>['fiction', 'historical-fiction', 'mystery', '...</td>\n",
       "      <td>2011.0</td>\n",
       "      <td>eng</td>\n",
       "      <td>417.0</td>\n",
       "    </tr>\n",
       "  </tbody>\n",
       "</table>\n",
       "</div>"
      ],
      "text/plain": [
       "        book_id                                   title  \\\n",
       "339570     3409                      O vencedor está só   \n",
       "392628     3946  Matterhorn: A Novel of the Vietnam War   \n",
       "686883     7002                                 A Mercy   \n",
       "150393     1506                                 O Zahir   \n",
       "282522     2833                 El prisionero del cielo   \n",
       "\n",
       "                                  authors  average_rating  rating  \\\n",
       "339570                       Paulo Coelho            3.37       5   \n",
       "392628                     Karl Marlantes            4.25       5   \n",
       "686883                      Toni Morrison            3.65       5   \n",
       "150393  Paulo Coelho, Margaret Jull Costa            3.56       4   \n",
       "282522                  Carlos Ruiz Zafón            3.96       4   \n",
       "\n",
       "                                                   genres    year language  \\\n",
       "339570  ['christian', 'nonfiction', 'religion', 'spiri...  2008.0      eng   \n",
       "392628  ['young-adult', 'horror', 'fiction', 'fantasy'...  2009.0      eng   \n",
       "686883       ['historical-fiction', 'fiction', 'romance']  2008.0      eng   \n",
       "150393  ['classics', 'historical-fiction', 'fiction', ...  2005.0      eng   \n",
       "282522  ['fiction', 'historical-fiction', 'mystery', '...  2011.0      eng   \n",
       "\n",
       "        pages  \n",
       "339570  224.0  \n",
       "392628  458.0  \n",
       "686883  368.0  \n",
       "150393  541.0  \n",
       "282522  417.0  "
      ]
     },
     "metadata": {},
     "output_type": "display_data"
    }
   ],
   "source": [
    "query_used_id='u-10'\n",
    "personalization = {n: 0 for n in G.nodes()}\n",
    "personalization[query_used_id] = 1\n",
    "\n",
    "pagerank_scores = nx.pagerank(G, alpha=0.85, weight='ppr_weight', personalization=personalization) \n",
    "\n",
    "book_recommendations = [(node, score) for node, score in pagerank_scores.items() if node.startswith('b')]\n",
    "book_recommendations.sort(key=lambda x: x[1], reverse=True)\n",
    "book_recommendations = [(node, score) for (node, score) in book_recommendations if node not in G[query_used_id]]\n",
    "\n",
    "# Display the top rated books by the user\n",
    "user_book_ratings = ratings_df[ratings_df['user_id'] == 10]\n",
    "user_book_ratings = user_book_ratings.merge(books_df, left_on='book_id', right_index=True, how='inner')\n",
    "user_book_ratings = user_book_ratings[['book_id', 'title', 'authors', 'average_rating', 'rating', 'genres', 'year', 'language', 'pages']].sort_values('rating', ascending=False)\n",
    "print(\"Top rated books by user:\")\n",
    "display(user_book_ratings.head())"
   ]
  },
  {
   "cell_type": "code",
   "execution_count": 5,
   "metadata": {},
   "outputs": [
    {
     "data": {
      "text/html": [
       "<div>\n",
       "<style scoped>\n",
       "    .dataframe tbody tr th:only-of-type {\n",
       "        vertical-align: middle;\n",
       "    }\n",
       "\n",
       "    .dataframe tbody tr th {\n",
       "        vertical-align: top;\n",
       "    }\n",
       "\n",
       "    .dataframe thead th {\n",
       "        text-align: right;\n",
       "    }\n",
       "</style>\n",
       "<table border=\"1\" class=\"dataframe\">\n",
       "  <thead>\n",
       "    <tr style=\"text-align: right;\">\n",
       "      <th></th>\n",
       "      <th>authors</th>\n",
       "      <th>year</th>\n",
       "      <th>title</th>\n",
       "      <th>average_rating</th>\n",
       "      <th>num_ratings</th>\n",
       "      <th>num_1</th>\n",
       "      <th>num_2</th>\n",
       "      <th>num_3</th>\n",
       "      <th>num_4</th>\n",
       "      <th>num_5</th>\n",
       "      <th>genres</th>\n",
       "      <th>language</th>\n",
       "      <th>pages</th>\n",
       "    </tr>\n",
       "    <tr>\n",
       "      <th>book_id</th>\n",
       "      <th></th>\n",
       "      <th></th>\n",
       "      <th></th>\n",
       "      <th></th>\n",
       "      <th></th>\n",
       "      <th></th>\n",
       "      <th></th>\n",
       "      <th></th>\n",
       "      <th></th>\n",
       "      <th></th>\n",
       "      <th></th>\n",
       "      <th></th>\n",
       "      <th></th>\n",
       "    </tr>\n",
       "  </thead>\n",
       "  <tbody>\n",
       "    <tr>\n",
       "      <th>5812</th>\n",
       "      <td>Paulo Coelho</td>\n",
       "      <td>2000.0</td>\n",
       "      <td>Ser Como o Rio que Flui</td>\n",
       "      <td>3.93</td>\n",
       "      <td>12708</td>\n",
       "      <td>303</td>\n",
       "      <td>882</td>\n",
       "      <td>3391</td>\n",
       "      <td>4983</td>\n",
       "      <td>5064</td>\n",
       "      <td>['poetry', 'classics', 'fiction']</td>\n",
       "      <td>eng</td>\n",
       "      <td>736.0</td>\n",
       "    </tr>\n",
       "    <tr>\n",
       "      <th>5318</th>\n",
       "      <td>Paulo Coelho, Alan R. Clarke</td>\n",
       "      <td>1988.0</td>\n",
       "      <td>As Valkírias</td>\n",
       "      <td>3.30</td>\n",
       "      <td>14364</td>\n",
       "      <td>1099</td>\n",
       "      <td>2817</td>\n",
       "      <td>5768</td>\n",
       "      <td>4426</td>\n",
       "      <td>2844</td>\n",
       "      <td>['fiction', 'contemporary', 'young-adult']</td>\n",
       "      <td>eng</td>\n",
       "      <td>661.0</td>\n",
       "    </tr>\n",
       "    <tr>\n",
       "      <th>2902</th>\n",
       "      <td>Paulo Coelho</td>\n",
       "      <td>1996.0</td>\n",
       "      <td>O Monte Cinco</td>\n",
       "      <td>3.61</td>\n",
       "      <td>26060</td>\n",
       "      <td>1220</td>\n",
       "      <td>3366</td>\n",
       "      <td>9197</td>\n",
       "      <td>9601</td>\n",
       "      <td>7593</td>\n",
       "      <td>['nonfiction', 'memoir', 'classics', 'spiritua...</td>\n",
       "      <td>eng</td>\n",
       "      <td>130.0</td>\n",
       "    </tr>\n",
       "    <tr>\n",
       "      <th>3913</th>\n",
       "      <td>Milan Kundera</td>\n",
       "      <td>1990.0</td>\n",
       "      <td>Nesmrtelnost</td>\n",
       "      <td>4.12</td>\n",
       "      <td>18574</td>\n",
       "      <td>206</td>\n",
       "      <td>859</td>\n",
       "      <td>4186</td>\n",
       "      <td>8619</td>\n",
       "      <td>9244</td>\n",
       "      <td>['mystery', 'fiction', 'crime', 'classics', 'h...</td>\n",
       "      <td>eng</td>\n",
       "      <td>212.0</td>\n",
       "    </tr>\n",
       "    <tr>\n",
       "      <th>1663</th>\n",
       "      <td>Paulo Coelho, Montserrat Mira</td>\n",
       "      <td>1990.0</td>\n",
       "      <td>Brida</td>\n",
       "      <td>3.46</td>\n",
       "      <td>45905</td>\n",
       "      <td>2936</td>\n",
       "      <td>7653</td>\n",
       "      <td>16869</td>\n",
       "      <td>14785</td>\n",
       "      <td>11874</td>\n",
       "      <td>['classics', 'fiction', 'romance', 'historical...</td>\n",
       "      <td>eng</td>\n",
       "      <td>576.0</td>\n",
       "    </tr>\n",
       "  </tbody>\n",
       "</table>\n",
       "</div>"
      ],
      "text/plain": [
       "                               authors    year                    title  \\\n",
       "book_id                                                                   \n",
       "5812                      Paulo Coelho  2000.0  Ser Como o Rio que Flui   \n",
       "5318      Paulo Coelho, Alan R. Clarke  1988.0             As Valkírias   \n",
       "2902                      Paulo Coelho  1996.0            O Monte Cinco   \n",
       "3913                     Milan Kundera  1990.0             Nesmrtelnost   \n",
       "1663     Paulo Coelho, Montserrat Mira  1990.0                    Brida   \n",
       "\n",
       "         average_rating  num_ratings  num_1  num_2  num_3  num_4  num_5  \\\n",
       "book_id                                                                   \n",
       "5812               3.93        12708    303    882   3391   4983   5064   \n",
       "5318               3.30        14364   1099   2817   5768   4426   2844   \n",
       "2902               3.61        26060   1220   3366   9197   9601   7593   \n",
       "3913               4.12        18574    206    859   4186   8619   9244   \n",
       "1663               3.46        45905   2936   7653  16869  14785  11874   \n",
       "\n",
       "                                                    genres language  pages  \n",
       "book_id                                                                     \n",
       "5812                     ['poetry', 'classics', 'fiction']      eng  736.0  \n",
       "5318            ['fiction', 'contemporary', 'young-adult']      eng  661.0  \n",
       "2902     ['nonfiction', 'memoir', 'classics', 'spiritua...      eng  130.0  \n",
       "3913     ['mystery', 'fiction', 'crime', 'classics', 'h...      eng  212.0  \n",
       "1663     ['classics', 'fiction', 'romance', 'historical...      eng  576.0  "
      ]
     },
     "metadata": {},
     "output_type": "display_data"
    }
   ],
   "source": [
    "book_ids = [int(book_id[2:]) for book_id, score in book_recommendations if book_id not in G[query_used_id]][:10]\n",
    "selected_books = books_df.loc[book_ids]\n",
    "display(selected_books.head(5))"
   ]
  },
  {
   "attachments": {},
   "cell_type": "markdown",
   "metadata": {},
   "source": [
    "## Evaluating pagerank approaches"
   ]
  },
  {
   "cell_type": "code",
   "execution_count": 70,
   "metadata": {},
   "outputs": [],
   "source": [
    "def precision_recall_at_k(user_id, top_n_recommendations):\n",
    "    relevant_items  = set(test_df[(test_df.user_id == user_id) & (test_df.rating>=3)]['book_id'])\n",
    "    if len (relevant_items ) == 0: return -1, -1 # Can not evaluate this user if no relavant items in test set\n",
    "    true_positives = len(relevant_items.intersection(set(top_n_recommendations)))\n",
    "\n",
    "    false_positives = len(top_n_recommendations) - true_positives\n",
    "    false_negatives = len(relevant_items) - true_positives\n",
    "\n",
    "    tp, fp, fn = true_positives, false_positives, false_negatives\n",
    "\n",
    "    precision = tp / (tp + fp) if tp + fp > 0 else 0\n",
    "    recall = tp / (tp + fn) if tp + fn > 0 else 0\n",
    "    return precision, recall"
   ]
  },
  {
   "attachments": {},
   "cell_type": "markdown",
   "metadata": {},
   "source": [
    "Get top n recommendations for each user in a sample"
   ]
  },
  {
   "cell_type": "code",
   "execution_count": 72,
   "metadata": {},
   "outputs": [],
   "source": [
    "from tqdm import tqdm\n",
    "import random\n",
    "\n",
    "user_ids = ratings_df['user_id'].unique()\n",
    "random.seed(42)\n",
    "sample_user_ids = random.sample(list(user_ids), 500)\n",
    "sample_user_ids = [\"u-\" + str(user_id) for user_id in sample_user_ids]"
   ]
  },
  {
   "attachments": {},
   "cell_type": "markdown",
   "metadata": {},
   "source": [
    "#### Personalized pagerank"
   ]
  },
  {
   "cell_type": "code",
   "execution_count": 73,
   "metadata": {},
   "outputs": [
    {
     "name": "stderr",
     "output_type": "stream",
     "text": [
      "Getting recommendations for users in a sample: 100%|██████████| 500/500 [23:39<00:00,  2.84s/it]\n"
     ]
    }
   ],
   "source": [
    "k = 200\n",
    "\n",
    "all_book_ids = set(ratings_df['book_id'].unique())\n",
    "ppr_recommendations = {}\n",
    "for user_id in tqdm(sample_user_ids, desc=\"Getting recommendations for users in a sample\"):\n",
    "    personalization = {n: 0 for n in G.nodes()}\n",
    "    personalization[user_id] = 1\n",
    "    pagerank_scores = nx.pagerank(G, alpha=0.85, weight='ppr_weight', personalization=personalization) \n",
    "\n",
    "    book_recommendations = [(node, score) for node, score in pagerank_scores.items() if node.startswith('b') and  node not in G[user_id]]\n",
    "    book_recommendations.sort(key=lambda x: x[1], reverse=True)\n",
    "    ppr_recommendations[user_id] = [int(node[2:]) for node, score in book_recommendations[:k]]"
   ]
  },
  {
   "cell_type": "code",
   "execution_count": 81,
   "metadata": {},
   "outputs": [
    {
     "name": "stderr",
     "output_type": "stream",
     "text": [
      "Evaluating recommendations: 100%|██████████| 500/500 [00:00<00:00, 894.92it/s]"
     ]
    },
    {
     "name": "stdout",
     "output_type": "stream",
     "text": [
      "Precision@200: 0.00017493\n",
      "Recall@200: 0.00698128\n"
     ]
    },
    {
     "name": "stderr",
     "output_type": "stream",
     "text": [
      "\n"
     ]
    }
   ],
   "source": [
    "total_precision = 0\n",
    "total_recall = 0\n",
    "count = len(user_ids)\n",
    "\n",
    "for user_id in tqdm(sample_user_ids, desc=\"Evaluating recommendations\"):\n",
    "    top_n_recommendations = ppr_recommendations[user_id]\n",
    "    precision, recall = precision_recall_at_k(int(user_id[2:]), top_n_recommendations)\n",
    "\n",
    "    if precision > 0:\n",
    "        total_precision += precision\n",
    "        total_recall += recall\n",
    "    elif precision < 0: # There were no relavant items\n",
    "        count -=1\n",
    "\n",
    "average_precision = total_precision / count\n",
    "average_recall = total_recall / count\n",
    "print(f\"Precision@{k}: {average_precision:.8f}\")\n",
    "print(f\"Recall@{k}: {average_recall:.8f}\")"
   ]
  },
  {
   "attachments": {},
   "cell_type": "markdown",
   "metadata": {},
   "source": [
    "#### Topic Specific Pagerank"
   ]
  },
  {
   "cell_type": "code",
   "execution_count": 79,
   "metadata": {},
   "outputs": [
    {
     "name": "stderr",
     "output_type": "stream",
     "text": [
      "Getting recommendations for users in a sample: 100%|██████████| 500/500 [20:56<00:00,  2.51s/it]\n"
     ]
    }
   ],
   "source": [
    "k = 200\n",
    "\n",
    "all_book_ids = set(ratings_df['book_id'].unique())\n",
    "tppr_recommendations = {}\n",
    "for user_id in tqdm(sample_user_ids, desc=\"Getting recommendations for users in a sample\"):\n",
    "    # Create personalization vector\n",
    "    personalization_vector = {node: 0 for node in G.nodes}\n",
    "    for book_node, edge_data in G[user_id].items(): \n",
    "        personalization_vector[book_node] = edge_data['ppr_weight']\n",
    "\n",
    "    pagerank_scores = nx.pagerank(G, alpha=0.85, weight='ppr_weight', personalization=personalization_vector)\n",
    "    book_recommendations = [(node, score) for node, score in pagerank_scores.items() if node.startswith('b') and  node not in G[user_id]]\n",
    "    book_recommendations.sort(key=lambda x: x[1], reverse=True)\n",
    "    tppr_recommendations[user_id] = [int(node[2:]) for node, score in book_recommendations[:k]]"
   ]
  },
  {
   "cell_type": "code",
   "execution_count": 80,
   "metadata": {},
   "outputs": [
    {
     "name": "stderr",
     "output_type": "stream",
     "text": [
      "Evaluating recommendations: 100%|██████████| 500/500 [00:00<00:00, 918.73it/s]"
     ]
    },
    {
     "name": "stdout",
     "output_type": "stream",
     "text": [
      "Precision@200: 0.00017493\n",
      "Recall@200: 0.00698128\n"
     ]
    },
    {
     "name": "stderr",
     "output_type": "stream",
     "text": [
      "\n"
     ]
    }
   ],
   "source": [
    "total_precision = 0\n",
    "total_recall = 0\n",
    "count = len(user_ids)\n",
    "k=200\n",
    "\n",
    "for user_id in tqdm(sample_user_ids, desc=\"Evaluating recommendations\"):\n",
    "    top_n_recommendations = tppr_recommendations[user_id]\n",
    "    precision, recall = precision_recall_at_k(int(user_id[2:]), top_n_recommendations)\n",
    "\n",
    "    if precision > 0:\n",
    "        total_precision += precision\n",
    "        total_recall += recall\n",
    "    elif precision < 0: # There were no relavant items\n",
    "        count -=1\n",
    "\n",
    "average_precision = total_precision / count\n",
    "average_recall = total_recall / count\n",
    "print(f\"Precision@{k}: {average_precision:.8f}\")\n",
    "print(f\"Recall@{k}: {average_recall:.8f}\")"
   ]
  }
 ],
 "metadata": {
  "kernelspec": {
   "display_name": "Python 3",
   "language": "python",
   "name": "python3"
  },
  "language_info": {
   "codemirror_mode": {
    "name": "ipython",
    "version": 3
   },
   "file_extension": ".py",
   "mimetype": "text/x-python",
   "name": "python",
   "nbconvert_exporter": "python",
   "pygments_lexer": "ipython3",
   "version": "3.10.4"
  },
  "orig_nbformat": 4
 },
 "nbformat": 4,
 "nbformat_minor": 2
}
