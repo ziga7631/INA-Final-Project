{
 "cells": [
  {
   "attachments": {},
   "cell_type": "markdown",
   "metadata": {},
   "source": [
    "# PageRank on bipartite graph"
   ]
  },
  {
   "cell_type": "code",
   "execution_count": 7,
   "metadata": {},
   "outputs": [],
   "source": [
    "import sys\n",
    "sys.path.append(\"..\")\n",
    "import pandas as pd\n",
    "import numpy as np\n",
    "import matplotlib.pyplot as plt\n",
    "import seaborn as sns\n",
    "from IPython.display import display\n",
    "import math\n",
    "import networkx\n",
    "from networkx.algorithms import bipartite\n",
    "\n",
    "from data.data_helper_functions import *"
   ]
  },
  {
   "cell_type": "code",
   "execution_count": 2,
   "metadata": {},
   "outputs": [],
   "source": [
    "%load_ext autoreload\n",
    "%autoreload 2"
   ]
  },
  {
   "attachments": {},
   "cell_type": "markdown",
   "metadata": {},
   "source": [
    "Load a Bipartite Graph"
   ]
  },
  {
   "cell_type": "code",
   "execution_count": 115,
   "metadata": {},
   "outputs": [],
   "source": [
    "data_path = '../data/'\n",
    "books_df, users_df, ratings_df = load_data(data_path)\n",
    "# G = load_bipartite_graph(books_df, users_df, ratings_df)\n",
    "\n",
    "train_df, test_df = split_ratings_by_user(ratings_df, test_size = 0.2, random_state=0)\n",
    "\n",
    "G = load_new_bipartite_graph(books_df, users_df, train_df)"
   ]
  },
  {
   "attachments": {},
   "cell_type": "markdown",
   "metadata": {},
   "source": [
    "Normalizing the weights"
   ]
  },
  {
   "attachments": {},
   "cell_type": "markdown",
   "metadata": {},
   "source": [
    "* Normalize user ratings by dividing each sigmoid value of the rating by the user's total sigmoid rating amount\n",
    "* The sigmoid transformation makes a user's higher ratings have a stronger impact on recommendations while reducing the influence of lower ratings."
   ]
  },
  {
   "attachments": {},
   "cell_type": "markdown",
   "metadata": {},
   "source": [
    "Testing the normalization of weights"
   ]
  },
  {
   "cell_type": "code",
   "execution_count": 15,
   "metadata": {},
   "outputs": [
    {
     "name": "stdout",
     "output_type": "stream",
     "text": [
      "0.6224593312018546\n",
      "2.4898373248074184\n"
     ]
    }
   ],
   "source": [
    "average_rating = 3.5\n",
    "edge_weight = 4\n",
    "weight_difference = edge_weight - average_rating\n",
    "sigmoid_factor = 1 / (1 + math.exp(-weight_difference))\n",
    "print(sigmoid_factor)\n",
    "print(edge_weight*sigmoid_factor)"
   ]
  },
  {
   "attachments": {},
   "cell_type": "markdown",
   "metadata": {},
   "source": [
    "### Personalized PageRank"
   ]
  },
  {
   "attachments": {},
   "cell_type": "markdown",
   "metadata": {},
   "source": [
    "* This approach computes personalized PageRank scores for the bipartite graph of users and books.\n",
    "* The personalization is based on the individual user of interest. "
   ]
  },
  {
   "cell_type": "code",
   "execution_count": 19,
   "metadata": {},
   "outputs": [],
   "source": [
    "query_used_id='u-10'\n",
    "personalization = {n: 0 for n in G.nodes()}\n",
    "personalization[query_used_id] = 1\n",
    "\n",
    "pagerank_scores = nx.pagerank(G, alpha=0.85, weight='sigmoid_weights', personalization=personalization) \n",
    "\n",
    "book_recommendations = [(node, score) for node, score in pagerank_scores.items() if node.startswith('b')]\n",
    "book_recommendations.sort(key=lambda x: x[1], reverse=True)\n",
    "book_recommendations = [(node, score) for (node, score) in book_recommendations if node not in G[query_used_id]]"
   ]
  },
  {
   "cell_type": "code",
   "execution_count": 20,
   "metadata": {},
   "outputs": [
    {
     "name": "stdout",
     "output_type": "stream",
     "text": [
      "Top rated books by user:\n"
     ]
    },
    {
     "data": {
      "text/html": [
       "<div>\n",
       "<style scoped>\n",
       "    .dataframe tbody tr th:only-of-type {\n",
       "        vertical-align: middle;\n",
       "    }\n",
       "\n",
       "    .dataframe tbody tr th {\n",
       "        vertical-align: top;\n",
       "    }\n",
       "\n",
       "    .dataframe thead th {\n",
       "        text-align: right;\n",
       "    }\n",
       "</style>\n",
       "<table border=\"1\" class=\"dataframe\">\n",
       "  <thead>\n",
       "    <tr style=\"text-align: right;\">\n",
       "      <th></th>\n",
       "      <th>book_id</th>\n",
       "      <th>title</th>\n",
       "      <th>authors</th>\n",
       "      <th>average_rating</th>\n",
       "      <th>rating</th>\n",
       "      <th>genres</th>\n",
       "      <th>year</th>\n",
       "      <th>language</th>\n",
       "      <th>pages</th>\n",
       "    </tr>\n",
       "  </thead>\n",
       "  <tbody>\n",
       "    <tr>\n",
       "      <th>339570</th>\n",
       "      <td>3409</td>\n",
       "      <td>O vencedor está só</td>\n",
       "      <td>Paulo Coelho</td>\n",
       "      <td>3.37</td>\n",
       "      <td>5</td>\n",
       "      <td>['christian', 'nonfiction', 'religion', 'spiri...</td>\n",
       "      <td>2008.0</td>\n",
       "      <td>eng</td>\n",
       "      <td>224.0</td>\n",
       "    </tr>\n",
       "    <tr>\n",
       "      <th>392628</th>\n",
       "      <td>3946</td>\n",
       "      <td>Matterhorn: A Novel of the Vietnam War</td>\n",
       "      <td>Karl Marlantes</td>\n",
       "      <td>4.25</td>\n",
       "      <td>5</td>\n",
       "      <td>['young-adult', 'horror', 'fiction', 'fantasy'...</td>\n",
       "      <td>2009.0</td>\n",
       "      <td>eng</td>\n",
       "      <td>458.0</td>\n",
       "    </tr>\n",
       "    <tr>\n",
       "      <th>686883</th>\n",
       "      <td>7002</td>\n",
       "      <td>A Mercy</td>\n",
       "      <td>Toni Morrison</td>\n",
       "      <td>3.65</td>\n",
       "      <td>5</td>\n",
       "      <td>['historical-fiction', 'fiction', 'romance']</td>\n",
       "      <td>2008.0</td>\n",
       "      <td>eng</td>\n",
       "      <td>368.0</td>\n",
       "    </tr>\n",
       "    <tr>\n",
       "      <th>150393</th>\n",
       "      <td>1506</td>\n",
       "      <td>O Zahir</td>\n",
       "      <td>Paulo Coelho, Margaret Jull Costa</td>\n",
       "      <td>3.56</td>\n",
       "      <td>4</td>\n",
       "      <td>['classics', 'historical-fiction', 'fiction', ...</td>\n",
       "      <td>2005.0</td>\n",
       "      <td>eng</td>\n",
       "      <td>541.0</td>\n",
       "    </tr>\n",
       "    <tr>\n",
       "      <th>282522</th>\n",
       "      <td>2833</td>\n",
       "      <td>El prisionero del cielo</td>\n",
       "      <td>Carlos Ruiz Zafón</td>\n",
       "      <td>3.96</td>\n",
       "      <td>4</td>\n",
       "      <td>['fiction', 'historical-fiction', 'mystery', '...</td>\n",
       "      <td>2011.0</td>\n",
       "      <td>eng</td>\n",
       "      <td>417.0</td>\n",
       "    </tr>\n",
       "  </tbody>\n",
       "</table>\n",
       "</div>"
      ],
      "text/plain": [
       "        book_id                                   title  \\\n",
       "339570     3409                      O vencedor está só   \n",
       "392628     3946  Matterhorn: A Novel of the Vietnam War   \n",
       "686883     7002                                 A Mercy   \n",
       "150393     1506                                 O Zahir   \n",
       "282522     2833                 El prisionero del cielo   \n",
       "\n",
       "                                  authors  average_rating  rating  \\\n",
       "339570                       Paulo Coelho            3.37       5   \n",
       "392628                     Karl Marlantes            4.25       5   \n",
       "686883                      Toni Morrison            3.65       5   \n",
       "150393  Paulo Coelho, Margaret Jull Costa            3.56       4   \n",
       "282522                  Carlos Ruiz Zafón            3.96       4   \n",
       "\n",
       "                                                   genres    year language  \\\n",
       "339570  ['christian', 'nonfiction', 'religion', 'spiri...  2008.0      eng   \n",
       "392628  ['young-adult', 'horror', 'fiction', 'fantasy'...  2009.0      eng   \n",
       "686883       ['historical-fiction', 'fiction', 'romance']  2008.0      eng   \n",
       "150393  ['classics', 'historical-fiction', 'fiction', ...  2005.0      eng   \n",
       "282522  ['fiction', 'historical-fiction', 'mystery', '...  2011.0      eng   \n",
       "\n",
       "        pages  \n",
       "339570  224.0  \n",
       "392628  458.0  \n",
       "686883  368.0  \n",
       "150393  541.0  \n",
       "282522  417.0  "
      ]
     },
     "metadata": {},
     "output_type": "display_data"
    }
   ],
   "source": [
    "# Display the top rated books by the user\n",
    "user_book_ratings = ratings_df[ratings_df['user_id'] == 10]\n",
    "user_book_ratings = user_book_ratings.merge(books_df, left_on='book_id', right_index=True, how='inner')\n",
    "user_book_ratings = user_book_ratings[['book_id', 'title', 'authors', 'average_rating', 'rating', 'genres', 'year', 'language', 'pages']].sort_values('rating', ascending=False)\n",
    "print(\"Top rated books by user:\")\n",
    "display(user_book_ratings.head())"
   ]
  },
  {
   "cell_type": "code",
   "execution_count": 21,
   "metadata": {},
   "outputs": [
    {
     "data": {
      "text/html": [
       "<div>\n",
       "<style scoped>\n",
       "    .dataframe tbody tr th:only-of-type {\n",
       "        vertical-align: middle;\n",
       "    }\n",
       "\n",
       "    .dataframe tbody tr th {\n",
       "        vertical-align: top;\n",
       "    }\n",
       "\n",
       "    .dataframe thead th {\n",
       "        text-align: right;\n",
       "    }\n",
       "</style>\n",
       "<table border=\"1\" class=\"dataframe\">\n",
       "  <thead>\n",
       "    <tr style=\"text-align: right;\">\n",
       "      <th></th>\n",
       "      <th>authors</th>\n",
       "      <th>year</th>\n",
       "      <th>title</th>\n",
       "      <th>average_rating</th>\n",
       "      <th>num_ratings</th>\n",
       "      <th>num_1</th>\n",
       "      <th>num_2</th>\n",
       "      <th>num_3</th>\n",
       "      <th>num_4</th>\n",
       "      <th>num_5</th>\n",
       "      <th>genres</th>\n",
       "      <th>language</th>\n",
       "      <th>pages</th>\n",
       "    </tr>\n",
       "    <tr>\n",
       "      <th>book_id</th>\n",
       "      <th></th>\n",
       "      <th></th>\n",
       "      <th></th>\n",
       "      <th></th>\n",
       "      <th></th>\n",
       "      <th></th>\n",
       "      <th></th>\n",
       "      <th></th>\n",
       "      <th></th>\n",
       "      <th></th>\n",
       "      <th></th>\n",
       "      <th></th>\n",
       "      <th></th>\n",
       "    </tr>\n",
       "  </thead>\n",
       "  <tbody>\n",
       "    <tr>\n",
       "      <th>3913</th>\n",
       "      <td>Milan Kundera</td>\n",
       "      <td>1990.0</td>\n",
       "      <td>Nesmrtelnost</td>\n",
       "      <td>4.12</td>\n",
       "      <td>18574</td>\n",
       "      <td>206</td>\n",
       "      <td>859</td>\n",
       "      <td>4186</td>\n",
       "      <td>8619</td>\n",
       "      <td>9244</td>\n",
       "      <td>['mystery', 'fiction', 'crime', 'classics', 'h...</td>\n",
       "      <td>eng</td>\n",
       "      <td>212.0</td>\n",
       "    </tr>\n",
       "    <tr>\n",
       "      <th>2902</th>\n",
       "      <td>Paulo Coelho</td>\n",
       "      <td>1996.0</td>\n",
       "      <td>O Monte Cinco</td>\n",
       "      <td>3.61</td>\n",
       "      <td>26060</td>\n",
       "      <td>1220</td>\n",
       "      <td>3366</td>\n",
       "      <td>9197</td>\n",
       "      <td>9601</td>\n",
       "      <td>7593</td>\n",
       "      <td>['nonfiction', 'memoir', 'classics', 'spiritua...</td>\n",
       "      <td>eng</td>\n",
       "      <td>130.0</td>\n",
       "    </tr>\n",
       "    <tr>\n",
       "      <th>5983</th>\n",
       "      <td>José Saramago</td>\n",
       "      <td>1991.0</td>\n",
       "      <td>O Evangelho segundo Jesus Cristo</td>\n",
       "      <td>4.26</td>\n",
       "      <td>11301</td>\n",
       "      <td>190</td>\n",
       "      <td>489</td>\n",
       "      <td>2289</td>\n",
       "      <td>5408</td>\n",
       "      <td>8232</td>\n",
       "      <td>['fiction', 'classics']</td>\n",
       "      <td>eng</td>\n",
       "      <td>264.0</td>\n",
       "    </tr>\n",
       "    <tr>\n",
       "      <th>5374</th>\n",
       "      <td>Milan Kundera, Suzanne Rappaport</td>\n",
       "      <td>1970.0</td>\n",
       "      <td>Směšné lásky</td>\n",
       "      <td>3.86</td>\n",
       "      <td>12984</td>\n",
       "      <td>179</td>\n",
       "      <td>838</td>\n",
       "      <td>4631</td>\n",
       "      <td>7271</td>\n",
       "      <td>4489</td>\n",
       "      <td>['romance', 'contemporary', 'fiction', 'chick-...</td>\n",
       "      <td>eng</td>\n",
       "      <td>853.0</td>\n",
       "    </tr>\n",
       "    <tr>\n",
       "      <th>5318</th>\n",
       "      <td>Paulo Coelho, Alan R. Clarke</td>\n",
       "      <td>1988.0</td>\n",
       "      <td>As Valkírias</td>\n",
       "      <td>3.30</td>\n",
       "      <td>14364</td>\n",
       "      <td>1099</td>\n",
       "      <td>2817</td>\n",
       "      <td>5768</td>\n",
       "      <td>4426</td>\n",
       "      <td>2844</td>\n",
       "      <td>['fiction', 'contemporary', 'young-adult']</td>\n",
       "      <td>eng</td>\n",
       "      <td>661.0</td>\n",
       "    </tr>\n",
       "  </tbody>\n",
       "</table>\n",
       "</div>"
      ],
      "text/plain": [
       "                                  authors    year  \\\n",
       "book_id                                             \n",
       "3913                        Milan Kundera  1990.0   \n",
       "2902                         Paulo Coelho  1996.0   \n",
       "5983                        José Saramago  1991.0   \n",
       "5374     Milan Kundera, Suzanne Rappaport  1970.0   \n",
       "5318         Paulo Coelho, Alan R. Clarke  1988.0   \n",
       "\n",
       "                                    title  average_rating  num_ratings  num_1  \\\n",
       "book_id                                                                         \n",
       "3913                         Nesmrtelnost            4.12        18574    206   \n",
       "2902                        O Monte Cinco            3.61        26060   1220   \n",
       "5983     O Evangelho segundo Jesus Cristo            4.26        11301    190   \n",
       "5374                        Směšné lásky             3.86        12984    179   \n",
       "5318                         As Valkírias            3.30        14364   1099   \n",
       "\n",
       "         num_2  num_3  num_4  num_5  \\\n",
       "book_id                               \n",
       "3913       859   4186   8619   9244   \n",
       "2902      3366   9197   9601   7593   \n",
       "5983       489   2289   5408   8232   \n",
       "5374       838   4631   7271   4489   \n",
       "5318      2817   5768   4426   2844   \n",
       "\n",
       "                                                    genres language  pages  \n",
       "book_id                                                                     \n",
       "3913     ['mystery', 'fiction', 'crime', 'classics', 'h...      eng  212.0  \n",
       "2902     ['nonfiction', 'memoir', 'classics', 'spiritua...      eng  130.0  \n",
       "5983                               ['fiction', 'classics']      eng  264.0  \n",
       "5374     ['romance', 'contemporary', 'fiction', 'chick-...      eng  853.0  \n",
       "5318            ['fiction', 'contemporary', 'young-adult']      eng  661.0  "
      ]
     },
     "metadata": {},
     "output_type": "display_data"
    }
   ],
   "source": [
    "book_ids = [int(book_id[2:]) for book_id, score in book_recommendations if book_id not in G[query_used_id]][:10]\n",
    "selected_books = books_df.loc[book_ids]\n",
    "display(selected_books.head())"
   ]
  },
  {
   "attachments": {},
   "cell_type": "markdown",
   "metadata": {},
   "source": [
    "### Topic Specific PageRank"
   ]
  },
  {
   "attachments": {},
   "cell_type": "markdown",
   "metadata": {},
   "source": [
    "* This approach computes personalized PageRank scores for the bipartite graph of users and books.\n",
    "* The personalization is based on the normalized book ratings given by a user of interest.\n",
    "* Higher normalized ratings mean that the user liked those books more."
   ]
  },
  {
   "cell_type": "code",
   "execution_count": 26,
   "metadata": {},
   "outputs": [],
   "source": [
    "query_user_id = 'u-10'\n",
    "personalization_vector = {node: 0 for node in G.nodes}\n",
    "\n",
    "# Create personalization vector - weighted vector of user's books\n",
    "for book_node, edge_data in G[query_user_id].items(): \n",
    "    personalization_vector[book_node] = edge_data['normalized_sigmoid_weight']\n",
    "\n",
    "pagerank_scores = nx.pagerank(G, alpha=0.85, weight='normalized_sigmoid_weight', personalization=personalization_vector)\n",
    "\n",
    "book_nodes = [node for node, data in G.nodes(data=True) if data['type'] == 'book']\n",
    "sorted_books = sorted(book_nodes, key=lambda book: pagerank_scores[book], reverse=True)\n",
    "top_n_recommendations = [book for book in sorted_books if book not in G[query_user_id]]"
   ]
  },
  {
   "cell_type": "code",
   "execution_count": 29,
   "metadata": {},
   "outputs": [
    {
     "name": "stdout",
     "output_type": "stream",
     "text": [
      "Top rated books by user:\n"
     ]
    }
   ],
   "source": [
    "# Display the top rated books by the user\n",
    "user_book_ratings = ratings_df[ratings_df['user_id'] == 10]\n",
    "user_book_ratings = user_book_ratings.merge(books_df, left_on='book_id', right_index=True, how='inner')\n",
    "user_book_ratings = user_book_ratings[['book_id', 'title', 'authors', 'average_rating', 'rating', 'genres', 'year', 'language', 'pages']].sort_values('rating', ascending=False)\n",
    "print(\"Top rated books by user:\")\n",
    "# display(user_book_ratings.head())"
   ]
  },
  {
   "cell_type": "code",
   "execution_count": 30,
   "metadata": {},
   "outputs": [
    {
     "data": {
      "text/html": [
       "<div>\n",
       "<style scoped>\n",
       "    .dataframe tbody tr th:only-of-type {\n",
       "        vertical-align: middle;\n",
       "    }\n",
       "\n",
       "    .dataframe tbody tr th {\n",
       "        vertical-align: top;\n",
       "    }\n",
       "\n",
       "    .dataframe thead th {\n",
       "        text-align: right;\n",
       "    }\n",
       "</style>\n",
       "<table border=\"1\" class=\"dataframe\">\n",
       "  <thead>\n",
       "    <tr style=\"text-align: right;\">\n",
       "      <th></th>\n",
       "      <th>authors</th>\n",
       "      <th>year</th>\n",
       "      <th>title</th>\n",
       "      <th>average_rating</th>\n",
       "      <th>num_ratings</th>\n",
       "      <th>num_1</th>\n",
       "      <th>num_2</th>\n",
       "      <th>num_3</th>\n",
       "      <th>num_4</th>\n",
       "      <th>num_5</th>\n",
       "      <th>genres</th>\n",
       "      <th>language</th>\n",
       "      <th>pages</th>\n",
       "    </tr>\n",
       "    <tr>\n",
       "      <th>book_id</th>\n",
       "      <th></th>\n",
       "      <th></th>\n",
       "      <th></th>\n",
       "      <th></th>\n",
       "      <th></th>\n",
       "      <th></th>\n",
       "      <th></th>\n",
       "      <th></th>\n",
       "      <th></th>\n",
       "      <th></th>\n",
       "      <th></th>\n",
       "      <th></th>\n",
       "      <th></th>\n",
       "    </tr>\n",
       "  </thead>\n",
       "  <tbody>\n",
       "    <tr>\n",
       "      <th>5812</th>\n",
       "      <td>Paulo Coelho</td>\n",
       "      <td>2000.0</td>\n",
       "      <td>Ser Como o Rio que Flui</td>\n",
       "      <td>3.93</td>\n",
       "      <td>12708</td>\n",
       "      <td>303</td>\n",
       "      <td>882</td>\n",
       "      <td>3391</td>\n",
       "      <td>4983</td>\n",
       "      <td>5064</td>\n",
       "      <td>['poetry', 'classics', 'fiction']</td>\n",
       "      <td>eng</td>\n",
       "      <td>736.0</td>\n",
       "    </tr>\n",
       "    <tr>\n",
       "      <th>2902</th>\n",
       "      <td>Paulo Coelho</td>\n",
       "      <td>1996.0</td>\n",
       "      <td>O Monte Cinco</td>\n",
       "      <td>3.61</td>\n",
       "      <td>26060</td>\n",
       "      <td>1220</td>\n",
       "      <td>3366</td>\n",
       "      <td>9197</td>\n",
       "      <td>9601</td>\n",
       "      <td>7593</td>\n",
       "      <td>['nonfiction', 'memoir', 'classics', 'spiritua...</td>\n",
       "      <td>eng</td>\n",
       "      <td>130.0</td>\n",
       "    </tr>\n",
       "    <tr>\n",
       "      <th>7462</th>\n",
       "      <td>Paul Auster</td>\n",
       "      <td>1992.0</td>\n",
       "      <td>Leviathan</td>\n",
       "      <td>3.95</td>\n",
       "      <td>10002</td>\n",
       "      <td>105</td>\n",
       "      <td>490</td>\n",
       "      <td>2684</td>\n",
       "      <td>5165</td>\n",
       "      <td>3350</td>\n",
       "      <td>['young-adult', 'romance', 'contemporary', 'fi...</td>\n",
       "      <td>eng</td>\n",
       "      <td>224.0</td>\n",
       "    </tr>\n",
       "    <tr>\n",
       "      <th>5318</th>\n",
       "      <td>Paulo Coelho, Alan R. Clarke</td>\n",
       "      <td>1988.0</td>\n",
       "      <td>As Valkírias</td>\n",
       "      <td>3.30</td>\n",
       "      <td>14364</td>\n",
       "      <td>1099</td>\n",
       "      <td>2817</td>\n",
       "      <td>5768</td>\n",
       "      <td>4426</td>\n",
       "      <td>2844</td>\n",
       "      <td>['fiction', 'contemporary', 'young-adult']</td>\n",
       "      <td>eng</td>\n",
       "      <td>661.0</td>\n",
       "    </tr>\n",
       "    <tr>\n",
       "      <th>4606</th>\n",
       "      <td>Isabel Allende</td>\n",
       "      <td>1994.0</td>\n",
       "      <td>Paula</td>\n",
       "      <td>4.07</td>\n",
       "      <td>19852</td>\n",
       "      <td>344</td>\n",
       "      <td>1120</td>\n",
       "      <td>4491</td>\n",
       "      <td>8073</td>\n",
       "      <td>9501</td>\n",
       "      <td>['fiction', 'fantasy', 'romance', 'chick-lit',...</td>\n",
       "      <td>eng</td>\n",
       "      <td>296.0</td>\n",
       "    </tr>\n",
       "  </tbody>\n",
       "</table>\n",
       "</div>"
      ],
      "text/plain": [
       "                              authors    year                    title  \\\n",
       "book_id                                                                  \n",
       "5812                     Paulo Coelho  2000.0  Ser Como o Rio que Flui   \n",
       "2902                     Paulo Coelho  1996.0            O Monte Cinco   \n",
       "7462                      Paul Auster  1992.0                Leviathan   \n",
       "5318     Paulo Coelho, Alan R. Clarke  1988.0             As Valkírias   \n",
       "4606                   Isabel Allende  1994.0                    Paula   \n",
       "\n",
       "         average_rating  num_ratings  num_1  num_2  num_3  num_4  num_5  \\\n",
       "book_id                                                                   \n",
       "5812               3.93        12708    303    882   3391   4983   5064   \n",
       "2902               3.61        26060   1220   3366   9197   9601   7593   \n",
       "7462               3.95        10002    105    490   2684   5165   3350   \n",
       "5318               3.30        14364   1099   2817   5768   4426   2844   \n",
       "4606               4.07        19852    344   1120   4491   8073   9501   \n",
       "\n",
       "                                                    genres language  pages  \n",
       "book_id                                                                     \n",
       "5812                     ['poetry', 'classics', 'fiction']      eng  736.0  \n",
       "2902     ['nonfiction', 'memoir', 'classics', 'spiritua...      eng  130.0  \n",
       "7462     ['young-adult', 'romance', 'contemporary', 'fi...      eng  224.0  \n",
       "5318            ['fiction', 'contemporary', 'young-adult']      eng  661.0  \n",
       "4606     ['fiction', 'fantasy', 'romance', 'chick-lit',...      eng  296.0  "
      ]
     },
     "metadata": {},
     "output_type": "display_data"
    }
   ],
   "source": [
    "book_ids = [int(book_id[2:]) for book_id in top_n_recommendations]\n",
    "selected_books = books_df.loc[book_ids]\n",
    "display(selected_books.head())"
   ]
  },
  {
   "attachments": {},
   "cell_type": "markdown",
   "metadata": {},
   "source": [
    "### Personalized PageRank Approach 3 - Item-Item Projection with User's Items in Personalization Vector"
   ]
  },
  {
   "attachments": {},
   "cell_type": "markdown",
   "metadata": {},
   "source": [
    "#### FIRST WAY\n",
    "\n",
    "The first projection is based on the graph with only links where the user rated a book above or equal to their average rating. This graph represents user-book interaction, where user liked a book."
   ]
  },
  {
   "cell_type": "code",
   "execution_count": 31,
   "metadata": {},
   "outputs": [],
   "source": [
    "G_user_likes = G.copy() # Graph containing only user's positive ratings -> above his average\n",
    "\n",
    "# Calculate the average rating for each user\n",
    "for node, data in G_user_likes.nodes(data=True):\n",
    "    if data['type'] == 'user':\n",
    "        user_edges = G_user_likes.edges(node, data=True)\n",
    "        total_weight = sum(edge_data['weight'] for _, _, edge_data in user_edges)\n",
    "        G_user_likes.nodes[node]['average_rating'] = total_weight / len(user_edges)\n",
    "\n",
    "# Remove edges with below-average ratings\n",
    "for user, book, edge_data in list(G_user_likes.edges(data=True)):\n",
    "    if G_user_likes.nodes[user]['type'] == 'user' and edge_data['weight'] < G_user_likes.nodes[user]['average_rating']:\n",
    "        G_user_likes.remove_edge(user, book)\n",
    "\n",
    "book_nodes = {node for node, data in G_user_likes.nodes(data=True) if data['type'] == 'book'}\n",
    "\n",
    "# Create the book-book projection using positive ratings\n",
    "liked_book_book_projection = bipartite.weighted_projected_graph(G_user_likes, book_nodes)"
   ]
  },
  {
   "cell_type": "code",
   "execution_count": 38,
   "metadata": {},
   "outputs": [
    {
     "data": {
      "image/png": "[encoded data removed]",
      "text/plain": [
       "<Figure size 640x480 with 1 Axes>"
      ]
     },
     "metadata": {},
     "output_type": "display_data"
    }
   ],
   "source": [
    "# Select the book nodes to visualise a sample of book-book projection\n",
    "selected_books = {\n",
    "    'b-2': 'Harry Potter \\n1997',\n",
    "    'b-18': 'Harry Potter \\n1999',\n",
    "    'b-21': 'Harry Potter \\n2003',\n",
    "    'b-3': 'Twilight',\n",
    "    'b-6': 'Fault \\nin Our\\n Stars',\n",
    "    'b-30': 'Gone \\nGirl',\n",
    "}\n",
    "\n",
    "selected_book_subgraph = liked_book_book_projection.subgraph(selected_books.keys())\n",
    "\n",
    "pos = nx.spring_layout(selected_book_subgraph, seed=10)\n",
    "nx.draw(selected_book_subgraph, pos, with_labels=True, labels=selected_books, node_color='lightblue', font_weight='bold', node_size=1000, font_size=8)\n",
    "\n",
    "edge_labels = {(u, v): f'{d[\"weight\"]:.2f}' for u, v, d in selected_book_subgraph.edges(data=True)}\n",
    "nx.draw_networkx_edge_labels(selected_book_subgraph, pos, edge_labels=edge_labels, font_size=8)\n",
    "\n",
    "plt.show()"
   ]
  },
  {
   "cell_type": "code",
   "execution_count": 40,
   "metadata": {},
   "outputs": [
    {
     "data": {
      "text/html": [
       "<div>\n",
       "<style scoped>\n",
       "    .dataframe tbody tr th:only-of-type {\n",
       "        vertical-align: middle;\n",
       "    }\n",
       "\n",
       "    .dataframe tbody tr th {\n",
       "        vertical-align: top;\n",
       "    }\n",
       "\n",
       "    .dataframe thead th {\n",
       "        text-align: right;\n",
       "    }\n",
       "</style>\n",
       "<table border=\"1\" class=\"dataframe\">\n",
       "  <thead>\n",
       "    <tr style=\"text-align: right;\">\n",
       "      <th></th>\n",
       "      <th>authors</th>\n",
       "      <th>year</th>\n",
       "      <th>title</th>\n",
       "      <th>average_rating</th>\n",
       "      <th>num_ratings</th>\n",
       "      <th>num_1</th>\n",
       "      <th>num_2</th>\n",
       "      <th>num_3</th>\n",
       "      <th>num_4</th>\n",
       "      <th>num_5</th>\n",
       "      <th>genres</th>\n",
       "      <th>language</th>\n",
       "      <th>pages</th>\n",
       "    </tr>\n",
       "    <tr>\n",
       "      <th>book_id</th>\n",
       "      <th></th>\n",
       "      <th></th>\n",
       "      <th></th>\n",
       "      <th></th>\n",
       "      <th></th>\n",
       "      <th></th>\n",
       "      <th></th>\n",
       "      <th></th>\n",
       "      <th></th>\n",
       "      <th></th>\n",
       "      <th></th>\n",
       "      <th></th>\n",
       "      <th></th>\n",
       "    </tr>\n",
       "  </thead>\n",
       "  <tbody>\n",
       "    <tr>\n",
       "      <th>39</th>\n",
       "      <td>George R.R. Martin</td>\n",
       "      <td>1996.0</td>\n",
       "      <td>A Game of Thrones</td>\n",
       "      <td>4.45</td>\n",
       "      <td>1319204</td>\n",
       "      <td>19988</td>\n",
       "      <td>28983</td>\n",
       "      <td>114092</td>\n",
       "      <td>404583</td>\n",
       "      <td>874574</td>\n",
       "      <td>['fiction', 'fantasy', 'classics', 'contempora...</td>\n",
       "      <td>eng</td>\n",
       "      <td>460.0</td>\n",
       "    </tr>\n",
       "    <tr>\n",
       "      <th>87</th>\n",
       "      <td>Elie Wiesel, Marion Wiesel</td>\n",
       "      <td>1958.0</td>\n",
       "      <td>Un di Velt Hot Geshvign</td>\n",
       "      <td>4.30</td>\n",
       "      <td>691231</td>\n",
       "      <td>7761</td>\n",
       "      <td>18539</td>\n",
       "      <td>90575</td>\n",
       "      <td>230227</td>\n",
       "      <td>360777</td>\n",
       "      <td>['romance', 'fiction', 'contemporary', 'chick-...</td>\n",
       "      <td>eng</td>\n",
       "      <td>579.0</td>\n",
       "    </tr>\n",
       "    <tr>\n",
       "      <th>3913</th>\n",
       "      <td>Milan Kundera</td>\n",
       "      <td>1990.0</td>\n",
       "      <td>Nesmrtelnost</td>\n",
       "      <td>4.12</td>\n",
       "      <td>18574</td>\n",
       "      <td>206</td>\n",
       "      <td>859</td>\n",
       "      <td>4186</td>\n",
       "      <td>8619</td>\n",
       "      <td>9244</td>\n",
       "      <td>['mystery', 'fiction', 'crime', 'classics', 'h...</td>\n",
       "      <td>eng</td>\n",
       "      <td>212.0</td>\n",
       "    </tr>\n",
       "    <tr>\n",
       "      <th>1835</th>\n",
       "      <td>Paulo Coelho, Amanda Hopkinson, Nick Caistor</td>\n",
       "      <td>2000.0</td>\n",
       "      <td>O Demônio e a Srta. Prym</td>\n",
       "      <td>3.59</td>\n",
       "      <td>42286</td>\n",
       "      <td>1531</td>\n",
       "      <td>5179</td>\n",
       "      <td>15461</td>\n",
       "      <td>16402</td>\n",
       "      <td>10502</td>\n",
       "      <td>['classics', 'fiction', 'historical-fiction']</td>\n",
       "      <td>eng</td>\n",
       "      <td>470.0</td>\n",
       "    </tr>\n",
       "    <tr>\n",
       "      <th>144</th>\n",
       "      <td>Laura Hillenbrand</td>\n",
       "      <td>2010.0</td>\n",
       "      <td>Unbroken: A World War II Story of Survival, Re...</td>\n",
       "      <td>4.40</td>\n",
       "      <td>487775</td>\n",
       "      <td>10308</td>\n",
       "      <td>12874</td>\n",
       "      <td>47828</td>\n",
       "      <td>144203</td>\n",
       "      <td>313339</td>\n",
       "      <td>['fantasy', 'young-adult', 'fiction']</td>\n",
       "      <td>eng</td>\n",
       "      <td>361.0</td>\n",
       "    </tr>\n",
       "  </tbody>\n",
       "</table>\n",
       "</div>"
      ],
      "text/plain": [
       "                                              authors    year  \\\n",
       "book_id                                                         \n",
       "39                                 George R.R. Martin  1996.0   \n",
       "87                         Elie Wiesel, Marion Wiesel  1958.0   \n",
       "3913                                    Milan Kundera  1990.0   \n",
       "1835     Paulo Coelho, Amanda Hopkinson, Nick Caistor  2000.0   \n",
       "144                                 Laura Hillenbrand  2010.0   \n",
       "\n",
       "                                                     title  average_rating  \\\n",
       "book_id                                                                      \n",
       "39                                       A Game of Thrones            4.45   \n",
       "87                                 Un di Velt Hot Geshvign            4.30   \n",
       "3913                                          Nesmrtelnost            4.12   \n",
       "1835                              O Demônio e a Srta. Prym            3.59   \n",
       "144      Unbroken: A World War II Story of Survival, Re...            4.40   \n",
       "\n",
       "         num_ratings  num_1  num_2   num_3   num_4   num_5  \\\n",
       "book_id                                                      \n",
       "39           1319204  19988  28983  114092  404583  874574   \n",
       "87            691231   7761  18539   90575  230227  360777   \n",
       "3913           18574    206    859    4186    8619    9244   \n",
       "1835           42286   1531   5179   15461   16402   10502   \n",
       "144           487775  10308  12874   47828  144203  313339   \n",
       "\n",
       "                                                    genres language  pages  \n",
       "book_id                                                                     \n",
       "39       ['fiction', 'fantasy', 'classics', 'contempora...      eng  460.0  \n",
       "87       ['romance', 'fiction', 'contemporary', 'chick-...      eng  579.0  \n",
       "3913     ['mystery', 'fiction', 'crime', 'classics', 'h...      eng  212.0  \n",
       "1835         ['classics', 'fiction', 'historical-fiction']      eng  470.0  \n",
       "144                  ['fantasy', 'young-adult', 'fiction']      eng  361.0  "
      ]
     },
     "metadata": {},
     "output_type": "display_data"
    }
   ],
   "source": [
    "def create_preference_vector(G, user_id):\n",
    "    edges = {book: data['normalized_sigmoid_weight'] for _, book, data in G.edges(user_id, data=True)}\n",
    "    total = sum(edges.values())\n",
    "    return {book: edges.get(book, 0) / total for book in book_nodes}\n",
    "\n",
    "def predict_user(G, user_id, G_book_book_projection):\n",
    "    preference_vector = create_preference_vector(G, user_id)\n",
    "    already_rated_books = [book for book, preference in preference_vector.items() if preference > 0]\n",
    "\n",
    "    item_rank = nx.pagerank(G_book_book_projection, personalization=preference_vector, alpha=0.85, weight=\"weight\")\n",
    "    sorted_books = sorted(G_book_book_projection.nodes, key=lambda x: item_rank[x], reverse=True)\n",
    "    recommendations = [book for book in sorted_books if book not in already_rated_books]\n",
    "    return recommendations\n",
    "\n",
    "query_user_id = 'u-10'\n",
    "recommendations = predict_user(G, query_user_id, liked_book_book_projection)\n",
    "book_ids = [int(book_id[2:]) for book_id in recommendations[:10]]\n",
    "selected_books = books_df.loc[book_ids]\n",
    "display(selected_books.head())"
   ]
  },
  {
   "attachments": {},
   "cell_type": "markdown",
   "metadata": {},
   "source": [
    "#### SECOND WAY\n",
    "Custom book-book projection by summing the normalized sigmoid weights of the user-book ratings, resulting in an edge weight that represents the similarity between books. This projection will then be used for personalized recommendations using a preference vector and personalized PageRank algorithm."
   ]
  },
  {
   "cell_type": "code",
   "execution_count": 41,
   "metadata": {},
   "outputs": [],
   "source": [
    "def custom_weighted_projected_graph(G, projection_nodes):\n",
    "    G_projection = nx.Graph()\n",
    "    G_projection.add_nodes_from((node, G.nodes[node]) for node in projection_nodes)\n",
    "\n",
    "    for index_u, u in enumerate(projection_nodes): # Iterate over all pairs of books\n",
    "        for v in projection_nodes[index_u + 1:]:\n",
    "            common_neighbors = set(G.neighbors(u)) & set(G.neighbors(v))\n",
    "            weight = 0\n",
    "            for neighbor in common_neighbors:\n",
    "                u_neighbor_weight = G[u][neighbor].get('normalized_sigmoid_weight', 1)\n",
    "                v_neighbor_weight = G[v][neighbor].get('normalized_sigmoid_weight', 1)\n",
    "                weight += u_neighbor_weight * v_neighbor_weight\n",
    "                \n",
    "            if weight != 0:\n",
    "                G_projection.add_edge(u, v, weight=weight*100) #Because weight are small\n",
    "\n",
    "    return G_projection\n",
    "\n",
    "book_nodes = [node for node, data in G.nodes(data=True) if data['type'] == 'book']\n",
    "custom_book_book_projection = custom_weighted_projected_graph(G, book_nodes)"
   ]
  },
  {
   "cell_type": "code",
   "execution_count": 48,
   "metadata": {},
   "outputs": [
    {
     "data": {
      "image/png": "[encoded data removed]",
      "text/plain": [
       "<Figure size 640x480 with 1 Axes>"
      ]
     },
     "metadata": {},
     "output_type": "display_data"
    }
   ],
   "source": [
    "selected_books = {\n",
    "    'b-2': 'Harry Potter \\n1997',\n",
    "    'b-18': 'Harry Potter \\n1999',\n",
    "    'b-21': 'Harry Potter \\n2003',\n",
    "    'b-3': 'Twilight',\n",
    "    'b-6': 'Fault \\nin Our\\n Stars',\n",
    "    'b-30': 'Gone \\nGirl',\n",
    "}\n",
    "selected_book_subgraph = custom_book_book_projection.subgraph(selected_books.keys())\n",
    "\n",
    "pos = nx.spring_layout(selected_book_subgraph, seed=6)\n",
    "nx.draw(selected_book_subgraph, pos, with_labels=True, labels=selected_books, node_color='lightblue', font_weight='bold', node_size=1000, font_size=8)\n",
    "\n",
    "edge_labels = {(u, v): f'{d[\"weight\"]:.2f}' for u, v, d in selected_book_subgraph.edges(data=True)}\n",
    "nx.draw_networkx_edge_labels(selected_book_subgraph, pos, edge_labels=edge_labels, font_size=8)\n",
    "\n",
    "plt.show()"
   ]
  },
  {
   "cell_type": "code",
   "execution_count": 49,
   "metadata": {},
   "outputs": [
    {
     "data": {
      "text/html": [
       "<div>\n",
       "<style scoped>\n",
       "    .dataframe tbody tr th:only-of-type {\n",
       "        vertical-align: middle;\n",
       "    }\n",
       "\n",
       "    .dataframe tbody tr th {\n",
       "        vertical-align: top;\n",
       "    }\n",
       "\n",
       "    .dataframe thead th {\n",
       "        text-align: right;\n",
       "    }\n",
       "</style>\n",
       "<table border=\"1\" class=\"dataframe\">\n",
       "  <thead>\n",
       "    <tr style=\"text-align: right;\">\n",
       "      <th></th>\n",
       "      <th>authors</th>\n",
       "      <th>year</th>\n",
       "      <th>title</th>\n",
       "      <th>average_rating</th>\n",
       "      <th>num_ratings</th>\n",
       "      <th>num_1</th>\n",
       "      <th>num_2</th>\n",
       "      <th>num_3</th>\n",
       "      <th>num_4</th>\n",
       "      <th>num_5</th>\n",
       "      <th>genres</th>\n",
       "      <th>language</th>\n",
       "      <th>pages</th>\n",
       "    </tr>\n",
       "    <tr>\n",
       "      <th>book_id</th>\n",
       "      <th></th>\n",
       "      <th></th>\n",
       "      <th></th>\n",
       "      <th></th>\n",
       "      <th></th>\n",
       "      <th></th>\n",
       "      <th></th>\n",
       "      <th></th>\n",
       "      <th></th>\n",
       "      <th></th>\n",
       "      <th></th>\n",
       "      <th></th>\n",
       "      <th></th>\n",
       "    </tr>\n",
       "  </thead>\n",
       "  <tbody>\n",
       "    <tr>\n",
       "      <th>5812</th>\n",
       "      <td>Paulo Coelho</td>\n",
       "      <td>2000.0</td>\n",
       "      <td>Ser Como o Rio que Flui</td>\n",
       "      <td>3.93</td>\n",
       "      <td>12708</td>\n",
       "      <td>303</td>\n",
       "      <td>882</td>\n",
       "      <td>3391</td>\n",
       "      <td>4983</td>\n",
       "      <td>5064</td>\n",
       "      <td>['poetry', 'classics', 'fiction']</td>\n",
       "      <td>eng</td>\n",
       "      <td>736.0</td>\n",
       "    </tr>\n",
       "    <tr>\n",
       "      <th>7462</th>\n",
       "      <td>Paul Auster</td>\n",
       "      <td>1992.0</td>\n",
       "      <td>Leviathan</td>\n",
       "      <td>3.95</td>\n",
       "      <td>10002</td>\n",
       "      <td>105</td>\n",
       "      <td>490</td>\n",
       "      <td>2684</td>\n",
       "      <td>5165</td>\n",
       "      <td>3350</td>\n",
       "      <td>['young-adult', 'romance', 'contemporary', 'fi...</td>\n",
       "      <td>eng</td>\n",
       "      <td>224.0</td>\n",
       "    </tr>\n",
       "    <tr>\n",
       "      <th>5983</th>\n",
       "      <td>José Saramago</td>\n",
       "      <td>1991.0</td>\n",
       "      <td>O Evangelho segundo Jesus Cristo</td>\n",
       "      <td>4.26</td>\n",
       "      <td>11301</td>\n",
       "      <td>190</td>\n",
       "      <td>489</td>\n",
       "      <td>2289</td>\n",
       "      <td>5408</td>\n",
       "      <td>8232</td>\n",
       "      <td>['fiction', 'classics']</td>\n",
       "      <td>eng</td>\n",
       "      <td>264.0</td>\n",
       "    </tr>\n",
       "    <tr>\n",
       "      <th>2902</th>\n",
       "      <td>Paulo Coelho</td>\n",
       "      <td>1996.0</td>\n",
       "      <td>O Monte Cinco</td>\n",
       "      <td>3.61</td>\n",
       "      <td>26060</td>\n",
       "      <td>1220</td>\n",
       "      <td>3366</td>\n",
       "      <td>9197</td>\n",
       "      <td>9601</td>\n",
       "      <td>7593</td>\n",
       "      <td>['nonfiction', 'memoir', 'classics', 'spiritua...</td>\n",
       "      <td>eng</td>\n",
       "      <td>130.0</td>\n",
       "    </tr>\n",
       "    <tr>\n",
       "      <th>4606</th>\n",
       "      <td>Isabel Allende</td>\n",
       "      <td>1994.0</td>\n",
       "      <td>Paula</td>\n",
       "      <td>4.07</td>\n",
       "      <td>19852</td>\n",
       "      <td>344</td>\n",
       "      <td>1120</td>\n",
       "      <td>4491</td>\n",
       "      <td>8073</td>\n",
       "      <td>9501</td>\n",
       "      <td>['fiction', 'fantasy', 'romance', 'chick-lit',...</td>\n",
       "      <td>eng</td>\n",
       "      <td>296.0</td>\n",
       "    </tr>\n",
       "  </tbody>\n",
       "</table>\n",
       "</div>"
      ],
      "text/plain": [
       "                authors    year                             title  \\\n",
       "book_id                                                             \n",
       "5812       Paulo Coelho  2000.0           Ser Como o Rio que Flui   \n",
       "7462        Paul Auster  1992.0                         Leviathan   \n",
       "5983      José Saramago  1991.0  O Evangelho segundo Jesus Cristo   \n",
       "2902       Paulo Coelho  1996.0                     O Monte Cinco   \n",
       "4606     Isabel Allende  1994.0                             Paula   \n",
       "\n",
       "         average_rating  num_ratings  num_1  num_2  num_3  num_4  num_5  \\\n",
       "book_id                                                                   \n",
       "5812               3.93        12708    303    882   3391   4983   5064   \n",
       "7462               3.95        10002    105    490   2684   5165   3350   \n",
       "5983               4.26        11301    190    489   2289   5408   8232   \n",
       "2902               3.61        26060   1220   3366   9197   9601   7593   \n",
       "4606               4.07        19852    344   1120   4491   8073   9501   \n",
       "\n",
       "                                                    genres language  pages  \n",
       "book_id                                                                     \n",
       "5812                     ['poetry', 'classics', 'fiction']      eng  736.0  \n",
       "7462     ['young-adult', 'romance', 'contemporary', 'fi...      eng  224.0  \n",
       "5983                               ['fiction', 'classics']      eng  264.0  \n",
       "2902     ['nonfiction', 'memoir', 'classics', 'spiritua...      eng  130.0  \n",
       "4606     ['fiction', 'fantasy', 'romance', 'chick-lit',...      eng  296.0  "
      ]
     },
     "metadata": {},
     "output_type": "display_data"
    }
   ],
   "source": [
    "query_user_id = 'u-10'\n",
    "recommendations = predict_user(G, query_user_id, custom_book_book_projection)\n",
    "book_ids = [int(book_id[2:]) for book_id in recommendations[:10]]\n",
    "selected_books = books_df.loc[book_ids]\n",
    "display(selected_books.head())"
   ]
  },
  {
   "attachments": {},
   "cell_type": "markdown",
   "metadata": {},
   "source": [
    "### Trying to predict users ratings based on book-book projection and nearest neighbors"
   ]
  },
  {
   "attachments": {},
   "cell_type": "markdown",
   "metadata": {},
   "source": [
    "Idea: Use book-book projection to identify similar items (similarly to Collaborative Filtering) and predict rating "
   ]
  },
  {
   "cell_type": "code",
   "execution_count": 116,
   "metadata": {},
   "outputs": [],
   "source": [
    "from sklearn.model_selection import train_test_split\n",
    "from sklearn.metrics import mean_squared_error, mean_absolute_error\n",
    "\n",
    "# It finds the k nearest neighbors of the given book that the user has already rated\n",
    "def k_nearest_neighbors(G_projection, user_id, book_id, k, user_ratings):\n",
    "    neighbors = sorted(G_projection[book_id].items(), key=lambda x: x[1][\"weight\"], reverse=True)\n",
    "    rated_neighbors = [neighbor for neighbor in neighbors if (user_id, neighbor[0]) in user_ratings]\n",
    "    return [neighbor[0] for neighbor in rated_neighbors[:k]]\n",
    "\n",
    "def predict_rating(G_projection, user_id, book_id, k, user_ratings, user_biases):\n",
    "    neighbors = k_nearest_neighbors(G_projection, user_id, book_id, k, user_ratings)\n",
    "    numerator, denominator = 0, 0\n",
    "\n",
    "    user_bias = user_biases[user_id]\n",
    "\n",
    "    for neighbor in neighbors:\n",
    "        similarity = G_projection[book_id][neighbor][\"weight\"]\n",
    "        if (user_id, neighbor) in user_ratings:\n",
    "            neighbor_rating = user_ratings[(user_id, neighbor)] - user_bias\n",
    "            numerator += neighbor_rating * similarity\n",
    "            denominator += similarity\n",
    "\n",
    "    if denominator == 0:\n",
    "        return user_bias\n",
    "    return user_bias + (numerator / denominator)"
   ]
  },
  {
   "attachments": {},
   "cell_type": "markdown",
   "metadata": {},
   "source": [
    "Get Graph containg only ratings from train set"
   ]
  },
  {
   "cell_type": "code",
   "execution_count": 117,
   "metadata": {},
   "outputs": [],
   "source": [
    "def create_train_graph(G, test_data):\n",
    "    train_G = G.copy()\n",
    "    for _, row in test_data.iterrows():\n",
    "        user_id = 'u-' + str(row[\"user_id\"])\n",
    "        book_id = 'b-' + str(row[\"book_id\"])\n",
    "        if train_G.has_edge(user_id, book_id):\n",
    "            train_G.remove_edge(user_id, book_id)\n",
    "    return train_G"
   ]
  },
  {
   "attachments": {},
   "cell_type": "markdown",
   "metadata": {},
   "source": [
    "#### Networkx bipartite.weighted_projected_graph"
   ]
  },
  {
   "cell_type": "code",
   "execution_count": 84,
   "metadata": {},
   "outputs": [],
   "source": [
    "train_data, test_data = train_test_split(ratings_df, test_size=0.2, random_state=0)\n",
    "train_G = create_train_graph(G, test_data)\n",
    "\n",
    "book_nodes = [node for node, data in G.nodes(data=True) if data['type'] == 'book']\n",
    "train_book_book_projection = bipartite.weighted_projected_graph(train_G, book_nodes)\n",
    "\n",
    "user_biases = {}\n",
    "for user_id in users_df.index:\n",
    "    user_ratings_subset = train_data[train_data['user_id'] == user_id]['rating']\n",
    "    user_biases[user_id] = user_ratings_subset.mean()"
   ]
  },
  {
   "cell_type": "code",
   "execution_count": 90,
   "metadata": {},
   "outputs": [
    {
     "name": "stdout",
     "output_type": "stream",
     "text": [
      "RMSE: 0.8515239256392877\n",
      "MAE: 0.6268717867935878\n"
     ]
    }
   ],
   "source": [
    "y_true, y_pred = [], []\n",
    "user_ratings = {(row[\"user_id\"], 'b-'+str(row[\"book_id\"])): row[\"rating\"] for _, row in train_data.iterrows()}\n",
    "\n",
    "for _, row in test_data.iterrows():\n",
    "    predicted_rating = predict_rating(train_book_book_projection, row[\"user_id\"], 'b-'+str(row[\"book_id\"]), 100, user_ratings, user_biases)\n",
    "    if(np.isnan(predicted_rating)): continue # Users has to few ratings -> only one in testset\n",
    "    y_true.append(row[\"rating\"])\n",
    "    y_pred.append(predicted_rating)\n",
    "\n",
    "rmse = np.sqrt(mean_squared_error(y_true, y_pred))\n",
    "mae = mean_absolute_error(y_true, y_pred)\n",
    "\n",
    "print(f\"RMSE: {rmse}\")\n",
    "print(f\"MAE: {mae}\")"
   ]
  },
  {
   "attachments": {},
   "cell_type": "markdown",
   "metadata": {},
   "source": [
    "## Evaluating pagerank approaches"
   ]
  },
  {
   "cell_type": "code",
   "execution_count": 120,
   "metadata": {},
   "outputs": [],
   "source": [
    "def precision_recall_at_k(user_id, top_n_recommendations):\n",
    "    relevant_items  = set(test_df[(test_df.user_id == user_id) & (test_df.rating>=3)]['book_id'])\n",
    "    if len (relevant_items ) == 0: return -1, -1 # Can not evaluate this user if no relavant items in test set\n",
    "    true_positives = len(relevant_items.intersection(set(top_n_recommendations)))\n",
    "\n",
    "    false_positives = len(top_n_recommendations) - true_positives\n",
    "    false_negatives = len(relevant_items) - true_positives\n",
    "\n",
    "    tp, fp, fn = true_positives, false_positives, false_negatives\n",
    "\n",
    "    precision = tp / (tp + fp) if tp + fp > 0 else 0\n",
    "    recall = tp / (tp + fn) if tp + fn > 0 else 0\n",
    "    return precision, recall"
   ]
  },
  {
   "attachments": {},
   "cell_type": "markdown",
   "metadata": {},
   "source": [
    "Get top n recommendations for each user in a sample"
   ]
  },
  {
   "cell_type": "code",
   "execution_count": 118,
   "metadata": {},
   "outputs": [],
   "source": [
    "from tqdm import tqdm\n",
    "import random\n",
    "random.seed(42)\n",
    "\n",
    "user_ids = ratings_df['user_id'].unique()\n",
    "sample_user_ids = random.sample(list(user_ids), 500)\n",
    "sample_user_ids = [\"u-\" + str(user_id) for user_id in sample_user_ids]"
   ]
  },
  {
   "attachments": {},
   "cell_type": "markdown",
   "metadata": {},
   "source": [
    "### Personalized Pagerank"
   ]
  },
  {
   "attachments": {},
   "cell_type": "markdown",
   "metadata": {},
   "source": [
    "Get recommendations for each user is a sample based on ppr scores"
   ]
  },
  {
   "cell_type": "code",
   "execution_count": 119,
   "metadata": {},
   "outputs": [
    {
     "name": "stderr",
     "output_type": "stream",
     "text": [
      "Getting recommendations for users in a sample: 100%|██████████| 500/500 [1:00:06<00:00,  7.21s/it]\n"
     ]
    }
   ],
   "source": [
    "k = 200\n",
    "\n",
    "all_book_ids = set(ratings_df['book_id'].unique())\n",
    "ppr_recommendations = {}\n",
    "for user_id in tqdm(sample_user_ids, desc=\"Getting recommendations for users in a sample\"):\n",
    "    personalization = {n: 0 for n in G.nodes()}\n",
    "    personalization[user_id] = 1\n",
    "    pagerank_scores = nx.pagerank(G, alpha=0.85, weight='sigmoid_weights', personalization=personalization) \n",
    "\n",
    "    book_recommendations = [(node, score) for node, score in pagerank_scores.items() if node.startswith('b') and  node not in G[user_id]]\n",
    "    book_recommendations.sort(key=lambda x: x[1], reverse=True)\n",
    "    ppr_recommendations[user_id] = [int(node[2:]) for node, score in book_recommendations[:k]]"
   ]
  },
  {
   "cell_type": "code",
   "execution_count": 121,
   "metadata": {},
   "outputs": [
    {
     "name": "stderr",
     "output_type": "stream",
     "text": [
      "Evaluating recommendations: 100%|██████████| 500/500 [00:01<00:00, 331.34it/s]"
     ]
    },
    {
     "name": "stdout",
     "output_type": "stream",
     "text": [
      "Precision@200: 0.00018337\n",
      "Recall@200: 0.00739943\n"
     ]
    },
    {
     "name": "stderr",
     "output_type": "stream",
     "text": [
      "\n"
     ]
    }
   ],
   "source": [
    "total_precision = 0\n",
    "total_recall = 0\n",
    "count = len(user_ids)\n",
    "\n",
    "for user_id in tqdm(sample_user_ids, desc=\"Evaluating recommendations\"):\n",
    "    top_n_recommendations = ppr_recommendations[user_id]\n",
    "    precision, recall = precision_recall_at_k(int(user_id[2:]), top_n_recommendations)\n",
    "\n",
    "    if precision > 0:\n",
    "        total_precision += precision\n",
    "        total_recall += recall\n",
    "    elif precision < 0: # There were no relavant items\n",
    "        count -=1\n",
    "\n",
    "average_precision = total_precision / count\n",
    "average_recall = total_recall / count\n",
    "print(f\"Precision@{k}: {average_precision:.8f}\")\n",
    "print(f\"Recall@{k}: {average_recall:.8f}\")"
   ]
  },
  {
   "attachments": {},
   "cell_type": "markdown",
   "metadata": {},
   "source": [
    "### Topic-specific Pagerank"
   ]
  },
  {
   "attachments": {},
   "cell_type": "markdown",
   "metadata": {},
   "source": [
    "Get recommendations for each user is a sample based on topic specific pr scores"
   ]
  },
  {
   "cell_type": "code",
   "execution_count": 122,
   "metadata": {},
   "outputs": [
    {
     "name": "stderr",
     "output_type": "stream",
     "text": [
      "Getting recommendations for users in a sample: 100%|██████████| 500/500 [1:00:07<00:00,  7.22s/it]\n"
     ]
    }
   ],
   "source": [
    "k = 200\n",
    "\n",
    "all_book_ids = set(ratings_df['book_id'].unique())\n",
    "tppr_recommendations = {}\n",
    "for user_id in tqdm(sample_user_ids, desc=\"Getting recommendations for users in a sample\"):\n",
    "    # Create personalization vector\n",
    "    personalization_vector = {node: 0 for node in G.nodes}\n",
    "    for book_node, edge_data in G[user_id].items(): \n",
    "        personalization_vector[book_node] = edge_data['normalized_sigmoid_weight']\n",
    "\n",
    "    pagerank_scores = nx.pagerank(G, alpha=0.85, weight='normalized_sigmoid_weight', personalization=personalization_vector)\n",
    "    book_recommendations = [(node, score) for node, score in pagerank_scores.items() if node.startswith('b') and  node not in G[user_id]]\n",
    "    book_recommendations.sort(key=lambda x: x[1], reverse=True)\n",
    "    tppr_recommendations[user_id] = [int(node[2:]) for node, score in book_recommendations[:k]]"
   ]
  },
  {
   "cell_type": "code",
   "execution_count": 136,
   "metadata": {},
   "outputs": [
    {
     "name": "stderr",
     "output_type": "stream",
     "text": [
      "Evaluating recommendations: 100%|██████████| 500/500 [00:01<00:00, 377.64it/s]"
     ]
    },
    {
     "name": "stdout",
     "output_type": "stream",
     "text": [
      "Precision@200: 0.00008091\n",
      "Recall@200: 0.00831558\n"
     ]
    },
    {
     "name": "stderr",
     "output_type": "stream",
     "text": [
      "\n"
     ]
    }
   ],
   "source": [
    "total_precision = 0\n",
    "total_recall = 0\n",
    "count = len(user_ids)\n",
    "k=200\n",
    "\n",
    "for user_id in tqdm(sample_user_ids, desc=\"Evaluating recommendations\"):\n",
    "    top_n_recommendations = tppr_recommendations[user_id]\n",
    "    precision, recall = precision_recall_at_k(int(user_id[2:]), top_n_recommendations)\n",
    "\n",
    "    if precision > 0:\n",
    "        total_precision += precision\n",
    "        total_recall += recall\n",
    "    elif precision < 0: # There were no relavant items\n",
    "        count -=1\n",
    "\n",
    "average_precision = total_precision / count\n",
    "average_recall = total_recall / count\n",
    "print(f\"Precision@{k}: {average_precision:.8f}\")\n",
    "print(f\"Recall@{k}: {average_recall:.8f}\")"
   ]
  }
 ],
 "metadata": {
  "kernelspec": {
   "display_name": "Python 3",
   "language": "python",
   "name": "python3"
  },
  "language_info": {
   "codemirror_mode": {
    "name": "ipython",
    "version": 3
   },
   "file_extension": ".py",
   "mimetype": "text/x-python",
   "name": "python",
   "nbconvert_exporter": "python",
   "pygments_lexer": "ipython3",
   "version": "3.10.4"
  },
  "orig_nbformat": 4
 },
 "nbformat": 4,
 "nbformat_minor": 2
}
