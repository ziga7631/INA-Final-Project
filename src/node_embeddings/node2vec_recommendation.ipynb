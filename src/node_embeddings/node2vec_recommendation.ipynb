{
 "cells": [
  {
   "attachments": {},
   "cell_type": "markdown",
   "metadata": {},
   "source": [
    "# Node2vec embeddings for recommendation systems"
   ]
  },
  {
   "cell_type": "code",
   "execution_count": 23,
   "metadata": {},
   "outputs": [],
   "source": [
    "import sys\n",
    "sys.path.append(\"..\")\n",
    "import pandas as pd\n",
    "import numpy as np\n",
    "import math\n",
    "import networkx as nx\n",
    "from node2vec import Node2Vec\n",
    "from sklearn.model_selection import train_test_split\n",
    "\n",
    "from data.data_helper_functions import *"
   ]
  },
  {
   "cell_type": "code",
   "execution_count": 24,
   "metadata": {},
   "outputs": [
    {
     "name": "stdout",
     "output_type": "stream",
     "text": [
      "The autoreload extension is already loaded. To reload it, use:\n",
      "  %reload_ext autoreload\n"
     ]
    }
   ],
   "source": [
    "%load_ext autoreload\n",
    "%autoreload 2"
   ]
  },
  {
   "attachments": {},
   "cell_type": "markdown",
   "metadata": {},
   "source": [
    "Load the Data"
   ]
  },
  {
   "cell_type": "code",
   "execution_count": 25,
   "metadata": {},
   "outputs": [],
   "source": [
    "data_path = '../data/'\n",
    "books_df, users_df, ratings_df = load_data(data_path)\n",
    "# G = load_bipartite_graph(books_df, users_df, ratings_df)"
   ]
  },
  {
   "attachments": {},
   "cell_type": "markdown",
   "metadata": {},
   "source": [
    "Train test split evenly for each user"
   ]
  },
  {
   "cell_type": "code",
   "execution_count": 5,
   "metadata": {},
   "outputs": [],
   "source": [
    "# train_ratings_df, test_ratings_df = train_test_split(ratings_df, test_size=0.2, random_state=0)\n",
    "\n",
    "train_df, test_df = split_ratings_by_user(ratings_df, test_size = 0.2, random_state=0)"
   ]
  },
  {
   "attachments": {},
   "cell_type": "markdown",
   "metadata": {},
   "source": [
    "Load bipartite graph containing ratings from train_set"
   ]
  },
  {
   "cell_type": "code",
   "execution_count": 6,
   "metadata": {},
   "outputs": [],
   "source": [
    "G_train = load_new_bipartite_graph(books_df, users_df, train_df)"
   ]
  },
  {
   "attachments": {},
   "cell_type": "markdown",
   "metadata": {},
   "source": [
    "Create Node Embeddings using Node2Vec"
   ]
  },
  {
   "cell_type": "code",
   "execution_count": 8,
   "metadata": {},
   "outputs": [
    {
     "name": "stderr",
     "output_type": "stream",
     "text": [
      "Computing transition probabilities: 100%|██████████| 49686/49686 [05:29<00:00, 150.96it/s] \n"
     ]
    }
   ],
   "source": [
    "node2vec = Node2Vec(G_train, dimensions=128, walk_length=8, num_walks=250, weight_key='sigmoid_weight', workers=12)\n",
    "n2v_model = node2vec.fit(window=10, min_count=1, batch_words=4)"
   ]
  },
  {
   "attachments": {},
   "cell_type": "markdown",
   "metadata": {},
   "source": [
    "Store or Read node embeddings from Pickle"
   ]
  },
  {
   "cell_type": "code",
   "execution_count": 9,
   "metadata": {},
   "outputs": [],
   "source": [
    "node_embeddings = {node: n2v_model.wv[str(node)] for node in G_train.nodes()}\n",
    "\n",
    "# Save the embeddings dictionary to a file\n",
    "# with open('node_embeddings_128_250.pkl', 'wb') as f:\n",
    "#     pickle.dump(node_embeddings, f)"
   ]
  },
  {
   "cell_type": "code",
   "execution_count": 7,
   "metadata": {},
   "outputs": [],
   "source": [
    "with open('node_embeddings_128_250.pkl', 'rb') as f:\n",
    "    node_embeddings = pickle.load(f)"
   ]
  },
  {
   "cell_type": "code",
   "execution_count": 8,
   "metadata": {},
   "outputs": [],
   "source": [
    "# Separate user and book embeddings\n",
    "user_embeddings = {node[2:]: node_embeddings[node] for node in G_train.nodes() if node.startswith('u-')}\n",
    "book_embeddings = {node[2:]: node_embeddings[node] for node in G_train.nodes() if node.startswith('b-')}"
   ]
  },
  {
   "attachments": {},
   "cell_type": "markdown",
   "metadata": {},
   "source": [
    "## Utilizing Node Embeddings for making recommendation"
   ]
  },
  {
   "attachments": {},
   "cell_type": "markdown",
   "metadata": {},
   "source": [
    "Feeding node embeddings to neural network"
   ]
  },
  {
   "cell_type": "code",
   "execution_count": 9,
   "metadata": {},
   "outputs": [],
   "source": [
    "from keras.models import Sequential\n",
    "from keras.layers import Dense\n",
    "from keras.metrics import RootMeanSquaredError, MeanAbsoluteError, MeanSquaredError\n",
    "from keras.regularizers import l2"
   ]
  },
  {
   "cell_type": "code",
   "execution_count": null,
   "metadata": {},
   "outputs": [],
   "source": [
    "node_embedding_dim = 128\n",
    "model = Sequential()\n",
    "model.add(Dense(32, activation='relu', input_dim=2*node_embedding_dim, kernel_regularizer=l2(0.001)))\n",
    "model.add(Dense(8, activation='relu', kernel_regularizer=l2(0.001)))\n",
    "model.add(Dense(1, activation='linear'))"
   ]
  },
  {
   "cell_type": "code",
   "execution_count": 11,
   "metadata": {},
   "outputs": [],
   "source": [
    "# Prepare the Training data\n",
    "X_train = []\n",
    "y_train = []\n",
    "\n",
    "for index, row in train_df.iterrows():\n",
    "    user_embedding = user_embeddings[str(row['user_id'])]\n",
    "    item_embedding = book_embeddings[str(row['book_id'])]\n",
    "    feature_vector = np.concatenate((user_embedding, item_embedding))\n",
    "    X_train.append(feature_vector)\n",
    "    y_train.append(row['rating'])\n",
    "\n",
    "X_train = np.array(X_train)\n",
    "y_train = np.array(y_train)"
   ]
  },
  {
   "cell_type": "code",
   "execution_count": 12,
   "metadata": {},
   "outputs": [],
   "source": [
    "# Prepare the Test data\n",
    "X_test = []\n",
    "y_test = []\n",
    "\n",
    "for index, row in test_df.iterrows():\n",
    "    user_embedding = user_embeddings[str(row['user_id'])]\n",
    "    item_embedding = book_embeddings[str(row['book_id'])]\n",
    "    feature_vector = np.concatenate((user_embedding, item_embedding))\n",
    "    X_test.append(feature_vector)\n",
    "    y_test.append(row['rating'])\n",
    "\n",
    "X_test = np.array(X_test)\n",
    "y_test = np.array(y_test)"
   ]
  },
  {
   "cell_type": "code",
   "execution_count": 16,
   "metadata": {},
   "outputs": [],
   "source": [
    "# Create validation set from training data\n",
    "X_train, X_val, y_train, y_val = train_test_split(X_train, y_train, test_size=0.2, random_state=0)"
   ]
  },
  {
   "cell_type": "code",
   "execution_count": null,
   "metadata": {},
   "outputs": [],
   "source": [
    "model.compile(optimizer='adam', loss='mean_squared_error', metrics=[MeanSquaredError(), RootMeanSquaredError(), MeanAbsoluteError()])\n",
    "history = model.fit(X_train, y_train, epochs=5, batch_size=64, validation_data=(X_val, y_val))"
   ]
  },
  {
   "cell_type": "code",
   "execution_count": null,
   "metadata": {},
   "outputs": [],
   "source": [
    "# Evaluate the model\n",
    "results = model.evaluate(X_test, y_test, verbose=1)\n",
    "\n",
    "mse = results[1]\n",
    "rmse = results[2]\n",
    "mae = results[3]\n",
    "\n",
    "print(\"Mean squared error: \", mse)\n",
    "print(\"Root mean squared error: \", rmse)\n",
    "print(\"Mean absolute error: \", mae)"
   ]
  },
  {
   "attachments": {},
   "cell_type": "markdown",
   "metadata": {},
   "source": [
    "## Evaluate the model using precision and recall at K"
   ]
  },
  {
   "cell_type": "code",
   "execution_count": 19,
   "metadata": {},
   "outputs": [],
   "source": [
    "from tqdm import tqdm\n",
    "import random\n",
    "\n",
    "user_ids = ratings_df['user_id'].unique()\n",
    "random.seed(42)\n",
    "sample_user_ids = random.sample(list(user_ids), 500)\n",
    "k = 200"
   ]
  },
  {
   "attachments": {},
   "cell_type": "markdown",
   "metadata": {},
   "source": [
    "To slow ..."
   ]
  },
  {
   "cell_type": "code",
   "execution_count": null,
   "metadata": {},
   "outputs": [],
   "source": [
    "def get_top_recommendation_for_user(user_id, all_books, model, k=10):\n",
    "    user_rated_books = set(train_df[train_df['user_id'] == user_id]['book_id'])\n",
    "    books_not_yet_rated = list(all_books - user_rated_books)\n",
    "\n",
    "    predicted_ratings = []\n",
    "    for book_id in books_not_yet_rated:\n",
    "        user_embedding = user_embeddings[str(user_id)]\n",
    "        book_embedding = book_embeddings[str(book_id)]\n",
    "        feature_vector = np.concatenate((user_embedding, book_embedding))\n",
    "        predicted_rating = model.predict(feature_vector.reshape(1, -1), verbose=0)\n",
    "        predicted_ratings.append((book_id, predicted_rating.flatten()[0]))\n",
    "    sorted_book_ratings = sorted(predicted_ratings, key=lambda x: x[1], reverse=True)\n",
    "    return [book_id for (book_id, _) in sorted_book_ratings[:k]]\n",
    "\n",
    "all_book_ids = set(ratings_df['book_id'].unique())\n",
    "recommendations = {}\n",
    "for user_id in tqdm(sample_user_ids, desc=\"Getting recommendations for users\"):\n",
    "    top_n_recommendations = get_top_recommendation_for_user(user_id, all_book_ids, model, k=k)\n",
    "    recommendations[user_id] = top_n_recommendations"
   ]
  }
 ],
 "metadata": {
  "kernelspec": {
   "display_name": "Python 3",
   "language": "python",
   "name": "python3"
  },
  "language_info": {
   "codemirror_mode": {
    "name": "ipython",
    "version": 3
   },
   "file_extension": ".py",
   "mimetype": "text/x-python",
   "name": "python",
   "nbconvert_exporter": "python",
   "pygments_lexer": "ipython3",
   "version": "3.10.4"
  },
  "orig_nbformat": 4
 },
 "nbformat": 4,
 "nbformat_minor": 2
}
