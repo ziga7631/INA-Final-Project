{
 "cells": [
  {
   "attachments": {},
   "cell_type": "markdown",
   "metadata": {},
   "source": [
    "# COLLABORATIVE FILTERING"
   ]
  },
  {
   "attachments": {},
   "cell_type": "markdown",
   "metadata": {},
   "source": [
    "https://medium.com/@eli.hatcher/how-to-build-a-recommendation-system-e72fe9efb086"
   ]
  },
  {
   "cell_type": "code",
   "execution_count": 69,
   "metadata": {},
   "outputs": [],
   "source": [
    "import sys\n",
    "sys.path.append(\"..\")\n",
    "import pandas as pd\n",
    "import numpy as np\n",
    "import matplotlib.pyplot as plt\n",
    "import seaborn as sns\n",
    "import surprise\n",
    "from IPython.display import display\n",
    "from surprise import Reader, Dataset, KNNBasic, KNNWithZScore, KNNWithMeans, KNNBaseline, accuracy\n",
    "from surprise.model_selection import train_test_split, cross_validate\n",
    "import random\n",
    "\n",
    "from data.data_helper_functions import *"
   ]
  },
  {
   "cell_type": "code",
   "execution_count": 2,
   "metadata": {},
   "outputs": [],
   "source": [
    "%load_ext autoreload\n",
    "%autoreload 2"
   ]
  },
  {
   "attachments": {},
   "cell_type": "markdown",
   "metadata": {},
   "source": [
    "#### Load data"
   ]
  },
  {
   "cell_type": "code",
   "execution_count": 3,
   "metadata": {},
   "outputs": [],
   "source": [
    "data_path = '../data/'\n",
    "books_df, users_df, ratings_df = load_data(data_path)"
   ]
  },
  {
   "attachments": {},
   "cell_type": "markdown",
   "metadata": {},
   "source": [
    "##### Prepare the data for the surprise library"
   ]
  },
  {
   "cell_type": "code",
   "execution_count": 4,
   "metadata": {},
   "outputs": [],
   "source": [
    "reader = Reader(rating_scale=(1, 5))\n",
    "data = Dataset.load_from_df(ratings_df[['user_id', 'book_id', 'rating']], reader)"
   ]
  },
  {
   "attachments": {},
   "cell_type": "markdown",
   "metadata": {},
   "source": [
    "##### Split the data into train and test sets"
   ]
  },
  {
   "cell_type": "code",
   "execution_count": 88,
   "metadata": {},
   "outputs": [],
   "source": [
    "train, test = surprise.model_selection.train_test_split(data, test_size=0.2,random_state=0) "
   ]
  },
  {
   "attachments": {},
   "cell_type": "markdown",
   "metadata": {},
   "source": [
    "Get train test panda datagrames"
   ]
  },
  {
   "cell_type": "code",
   "execution_count": 62,
   "metadata": {},
   "outputs": [],
   "source": [
    "test_df = pd.DataFrame(test, columns=[\"user_id\", \"book_id\", \"rating\"])\n",
    "\n",
    "trainset_to_tuples = [(train.to_raw_uid(uid), train.to_raw_iid(iid), rating) for (uid, iid, rating) in train.all_ratings()]\n",
    "train_df = pd.DataFrame(trainset_to_tuples, columns=[\"user_id\", \"book_id\", \"rating\"])"
   ]
  },
  {
   "attachments": {},
   "cell_type": "markdown",
   "metadata": {},
   "source": [
    "### USER-USER COLLABORATIVE FILTERING"
   ]
  },
  {
   "attachments": {},
   "cell_type": "markdown",
   "metadata": {},
   "source": [
    "KNN BASIC"
   ]
  },
  {
   "cell_type": "code",
   "execution_count": 9,
   "metadata": {},
   "outputs": [
    {
     "name": "stdout",
     "output_type": "stream",
     "text": [
      "Computing the msd similarity matrix...\n",
      "Done computing similarity matrix.\n",
      "Computing the msd similarity matrix...\n",
      "Done computing similarity matrix.\n",
      "Computing the msd similarity matrix...\n",
      "Done computing similarity matrix.\n",
      "Computing the msd similarity matrix...\n",
      "Done computing similarity matrix.\n",
      "Computing the msd similarity matrix...\n",
      "Done computing similarity matrix.\n",
      "Computing the msd similarity matrix...\n",
      "Done computing similarity matrix.\n",
      "Evaluating RMSE, MAE of algorithm KNNBasic on 5 split(s).\n",
      "\n",
      "                  Fold 1  Fold 2  Fold 3  Fold 4  Fold 5  Mean    Std     \n",
      "RMSE (testset)    0.9064  0.9061  0.9078  0.9041  0.9071  0.9063  0.0012  \n",
      "MAE (testset)     0.7054  0.7075  0.7064  0.7057  0.7077  0.7065  0.0009  \n",
      "Fit time          79.19   73.12   120.22  120.73  102.59  99.17   19.99   \n",
      "Test time         23.72   24.56   26.64   22.68   22.96   24.11   1.42    \n",
      "User-User Collaborative Filtering Average RMSE: 0.9063168119559608\n",
      "User-User Collaborative Filtering Average MAE: 0.7065409878723454\n"
     ]
    }
   ],
   "source": [
    "knn_basic = KNNBasic(sim_options={'user_based': True})\n",
    "knn_basic.fit(train)\n",
    "\n",
    "cv_results = cross_validate(knn_basic, data, measures=['RMSE', 'MAE'], cv=5, verbose=True)\n",
    "\n",
    "mean_rmse = cv_results['test_rmse'].mean()\n",
    "mean_mae = cv_results['test_mae'].mean()\n",
    "print(\"User-User Collaborative Filtering Average RMSE:\", mean_rmse)\n",
    "print(\"User-User Collaborative Filtering Average MAE:\", mean_mae)"
   ]
  },
  {
   "attachments": {},
   "cell_type": "markdown",
   "metadata": {},
   "source": [
    "KNN Baseline"
   ]
  },
  {
   "cell_type": "code",
   "execution_count": 9,
   "metadata": {},
   "outputs": [
    {
     "name": "stdout",
     "output_type": "stream",
     "text": [
      "Estimating biases using als...\n",
      "Computing the msd similarity matrix...\n",
      "Done computing similarity matrix.\n",
      "RMSE: 0.8437132171149854\n",
      "MAE: 0.6490251094617892\n"
     ]
    }
   ],
   "source": [
    "knn_baseline = KNNBaseline(sim_options={'user_based': True})\n",
    "knn_baseline.fit(train)\n",
    "predictions_baseline = knn_baseline.test(test)\n",
    "rmse_baseline = accuracy.rmse(predictions_baseline, verbose=False)\n",
    "mae_baseline = accuracy.mae(predictions_baseline, verbose=False)\n",
    "print(\"RMSE:\", rmse_baseline)\n",
    "print(\"MAE:\", mae_baseline)"
   ]
  },
  {
   "attachments": {},
   "cell_type": "markdown",
   "metadata": {},
   "source": [
    "KNN With Means"
   ]
  },
  {
   "cell_type": "code",
   "execution_count": 28,
   "metadata": {},
   "outputs": [
    {
     "name": "stdout",
     "output_type": "stream",
     "text": [
      "Computing the msd similarity matrix...\n",
      "Done computing similarity matrix.\n",
      "RMSE: 0.8437132171149854\n",
      "MAE: 0.6490251094617892\n"
     ]
    }
   ],
   "source": [
    "knn_means = KNNWithMeans(sim_options={'user_based': True})\n",
    "knn_means.fit(train)\n",
    "predictions_means = knn_means.test(test)\n",
    "rmse_means = accuracy.rmse(predictions_means, verbose=False)\n",
    "mae_means = accuracy.mae(predictions_means, verbose=False)\n",
    "print(\"RMSE:\", rmse_baseline)\n",
    "print(\"MAE:\", mae_baseline)"
   ]
  },
  {
   "attachments": {},
   "cell_type": "markdown",
   "metadata": {},
   "source": [
    "KNN With Z Score"
   ]
  },
  {
   "cell_type": "code",
   "execution_count": null,
   "metadata": {},
   "outputs": [],
   "source": [
    "knn_zscore = KNNWithZScore(sim_options={'user_based': True})\n",
    "knn_zscore.fit(train)\n",
    "predictions_zscore = knn_zscore.test(test)\n",
    "rmse_zscore = accuracy.rmse(predictions_zscore, verbose=False)\n",
    "mae_zscore = accuracy.mae(predictions_zscore, verbose=False)\n",
    "print(\"RMSE:\", rmse_baseline)\n",
    "print(\"MAE:\", mae_baseline)"
   ]
  },
  {
   "attachments": {},
   "cell_type": "markdown",
   "metadata": {},
   "source": [
    "Predictions"
   ]
  },
  {
   "cell_type": "code",
   "execution_count": 37,
   "metadata": {},
   "outputs": [],
   "source": [
    "def get_top_n_recommendations(user_id, model, n=10):\n",
    "    all_book_ids = set(ratings_df['book_id'].unique())\n",
    "    user_rated_books = set(ratings_df[ratings_df['user_id'] == user_id]['book_id'])\n",
    "\n",
    "    books_not_yet_rated = list(all_book_ids - user_rated_books)\n",
    "    predictions = [model.predict(user_id, book_id) for book_id in books_not_yet_rated]\n",
    "    sorted_predictions = sorted(predictions, key=lambda x: x.est, reverse=True)\n",
    "    \n",
    "    return [(prediction.iid, prediction.est) for prediction in sorted_predictions[:n]]"
   ]
  },
  {
   "cell_type": "code",
   "execution_count": null,
   "metadata": {},
   "outputs": [],
   "source": [
    "query_user_id = 7\n",
    "top_n_recommendations_with_ratings = get_top_n_recommendations(query_user_id, knn_baseline, n=10)\n",
    "top_n_recommendations, predicted_ratings = zip(*top_n_recommendations_with_ratings)\n",
    "\n",
    "# Display the top rated books by the user\n",
    "user_book_ratings = ratings_df[ratings_df['user_id'] == query_user_id]\n",
    "user_book_ratings = user_book_ratings.merge(books_df, left_on='book_id', right_index=True, how='inner')\n",
    "user_book_ratings = user_book_ratings[['book_id', 'title', 'authors', 'average_rating', 'rating', 'genres', 'year', 'language', 'pages']].sort_values('rating', ascending=False)\n",
    "print(\"Top rated books by user:\")\n",
    "display(user_book_ratings)\n",
    "\n",
    "# Display the information of the recommended books\n",
    "recommended_books = books_df.loc[list(top_n_recommendations)]\n",
    "recommended_books['predicted_rating'] = predicted_ratings\n",
    "print(\"\\nRecommended books:\")\n",
    "display(recommended_books.head(10))"
   ]
  },
  {
   "attachments": {},
   "cell_type": "markdown",
   "metadata": {},
   "source": [
    "### ITEM-ITEM COLLABORATIVE FILTERING"
   ]
  },
  {
   "attachments": {},
   "cell_type": "markdown",
   "metadata": {},
   "source": [
    "KNN BASELINE"
   ]
  },
  {
   "cell_type": "code",
   "execution_count": 25,
   "metadata": {},
   "outputs": [
    {
     "name": "stdout",
     "output_type": "stream",
     "text": [
      "Estimating biases using als...\n",
      "Computing the msd similarity matrix...\n",
      "Done computing similarity matrix.\n",
      "RMSE: 0.8447441028828974\n",
      "MAE: 0.6433720078942631\n"
     ]
    }
   ],
   "source": [
    "knn_baseline_item = KNNBaseline(sim_options={'user_based': False})\n",
    "knn_baseline_item.fit(train)\n",
    "predictions_baseline_item = knn_baseline_item.test(test)\n",
    "rmse_baseline_item = accuracy.rmse(predictions_baseline_item, verbose=False)\n",
    "mae_baseline_item = accuracy.mae(predictions_baseline_item, verbose=False)\n",
    "\n",
    "print(\"RMSE:\", rmse_baseline_item)\n",
    "print(\"MAE:\", mae_baseline_item)"
   ]
  },
  {
   "attachments": {},
   "cell_type": "markdown",
   "metadata": {},
   "source": [
    "KNN With Means"
   ]
  },
  {
   "cell_type": "code",
   "execution_count": 24,
   "metadata": {},
   "outputs": [
    {
     "name": "stdout",
     "output_type": "stream",
     "text": [
      "Computing the msd similarity matrix...\n",
      "Done computing similarity matrix.\n",
      "RMSE: 0.8497612719055213\n",
      "MAE: 0.6479810569640901\n"
     ]
    }
   ],
   "source": [
    "knn_means_item = KNNWithMeans(sim_options={'user_based': False})\n",
    "knn_means_item.fit(train)\n",
    "predictions_means_item = knn_means_item.test(test)\n",
    "rmse_means_item = accuracy.rmse(predictions_means_item, verbose=False)\n",
    "mae_means_item = accuracy.mae(predictions_means_item, verbose=False)\n",
    "\n",
    "print(\"RMSE:\", rmse_means_item)\n",
    "print(\"MAE:\", mae_means_item)"
   ]
  },
  {
   "cell_type": "code",
   "execution_count": 53,
   "metadata": {},
   "outputs": [
    {
     "name": "stdout",
     "output_type": "stream",
     "text": [
      "Top rated books by user:\n"
     ]
    },
    {
     "data": {
      "text/html": [
       "<div>\n",
       "<style scoped>\n",
       "    .dataframe tbody tr th:only-of-type {\n",
       "        vertical-align: middle;\n",
       "    }\n",
       "\n",
       "    .dataframe tbody tr th {\n",
       "        vertical-align: top;\n",
       "    }\n",
       "\n",
       "    .dataframe thead th {\n",
       "        text-align: right;\n",
       "    }\n",
       "</style>\n",
       "<table border=\"1\" class=\"dataframe\">\n",
       "  <thead>\n",
       "    <tr style=\"text-align: right;\">\n",
       "      <th></th>\n",
       "      <th>title</th>\n",
       "      <th>authors</th>\n",
       "      <th>average_rating</th>\n",
       "      <th>rating</th>\n",
       "      <th>genres</th>\n",
       "      <th>year</th>\n",
       "      <th>language</th>\n",
       "      <th>pages</th>\n",
       "    </tr>\n",
       "  </thead>\n",
       "  <tbody>\n",
       "    <tr>\n",
       "      <th>732046</th>\n",
       "      <td>The Kept Woman</td>\n",
       "      <td>Karin Slaughter</td>\n",
       "      <td>4.10</td>\n",
       "      <td>5</td>\n",
       "      <td>['comics', 'graphic-novels', 'fiction']</td>\n",
       "      <td>2016.0</td>\n",
       "      <td>eng</td>\n",
       "      <td>128.0</td>\n",
       "    </tr>\n",
       "    <tr>\n",
       "      <th>784735</th>\n",
       "      <td>Wait Till Helen Comes</td>\n",
       "      <td>Mary Downing Hahn</td>\n",
       "      <td>4.14</td>\n",
       "      <td>5</td>\n",
       "      <td>['spirituality', 'self-help', 'nonfiction', 'b...</td>\n",
       "      <td>1986.0</td>\n",
       "      <td>eng</td>\n",
       "      <td>264.0</td>\n",
       "    </tr>\n",
       "    <tr>\n",
       "      <th>653626</th>\n",
       "      <td>Silent Scream</td>\n",
       "      <td>Angela Marsons</td>\n",
       "      <td>4.02</td>\n",
       "      <td>4</td>\n",
       "      <td>['fantasy', 'young-adult', 'fiction', 'romance']</td>\n",
       "      <td>2015.0</td>\n",
       "      <td>eng</td>\n",
       "      <td>403.0</td>\n",
       "    </tr>\n",
       "    <tr>\n",
       "      <th>659112</th>\n",
       "      <td>A Hidden Fire</td>\n",
       "      <td>Elizabeth   Hunter</td>\n",
       "      <td>4.05</td>\n",
       "      <td>4</td>\n",
       "      <td>['fiction', 'science-fiction', 'contemporary']</td>\n",
       "      <td>2011.0</td>\n",
       "      <td>eng</td>\n",
       "      <td>307.0</td>\n",
       "    </tr>\n",
       "    <tr>\n",
       "      <th>479038</th>\n",
       "      <td>The One That Got Away</td>\n",
       "      <td>Simon Wood</td>\n",
       "      <td>3.77</td>\n",
       "      <td>3</td>\n",
       "      <td>['nonfiction', 'classics', 'history', 'memoir']</td>\n",
       "      <td>2015.0</td>\n",
       "      <td>eng</td>\n",
       "      <td>106.0</td>\n",
       "    </tr>\n",
       "  </tbody>\n",
       "</table>\n",
       "</div>"
      ],
      "text/plain": [
       "                        title             authors  average_rating  rating  \\\n",
       "732046         The Kept Woman     Karin Slaughter            4.10       5   \n",
       "784735  Wait Till Helen Comes   Mary Downing Hahn            4.14       5   \n",
       "653626          Silent Scream      Angela Marsons            4.02       4   \n",
       "659112          A Hidden Fire  Elizabeth   Hunter            4.05       4   \n",
       "479038  The One That Got Away          Simon Wood            3.77       3   \n",
       "\n",
       "                                                   genres    year language  \\\n",
       "732046            ['comics', 'graphic-novels', 'fiction']  2016.0      eng   \n",
       "784735  ['spirituality', 'self-help', 'nonfiction', 'b...  1986.0      eng   \n",
       "653626   ['fantasy', 'young-adult', 'fiction', 'romance']  2015.0      eng   \n",
       "659112     ['fiction', 'science-fiction', 'contemporary']  2011.0      eng   \n",
       "479038    ['nonfiction', 'classics', 'history', 'memoir']  2015.0      eng   \n",
       "\n",
       "        pages  \n",
       "732046  128.0  \n",
       "784735  264.0  \n",
       "653626  403.0  \n",
       "659112  307.0  \n",
       "479038  106.0  "
      ]
     },
     "metadata": {},
     "output_type": "display_data"
    },
    {
     "name": "stdout",
     "output_type": "stream",
     "text": [
      "\n",
      "Recommended books:\n"
     ]
    },
    {
     "data": {
      "text/html": [
       "<div>\n",
       "<style scoped>\n",
       "    .dataframe tbody tr th:only-of-type {\n",
       "        vertical-align: middle;\n",
       "    }\n",
       "\n",
       "    .dataframe tbody tr th {\n",
       "        vertical-align: top;\n",
       "    }\n",
       "\n",
       "    .dataframe thead th {\n",
       "        text-align: right;\n",
       "    }\n",
       "</style>\n",
       "<table border=\"1\" class=\"dataframe\">\n",
       "  <thead>\n",
       "    <tr style=\"text-align: right;\">\n",
       "      <th></th>\n",
       "      <th>authors</th>\n",
       "      <th>year</th>\n",
       "      <th>title</th>\n",
       "      <th>average_rating</th>\n",
       "      <th>num_ratings</th>\n",
       "      <th>num_1</th>\n",
       "      <th>num_2</th>\n",
       "      <th>num_3</th>\n",
       "      <th>num_4</th>\n",
       "      <th>num_5</th>\n",
       "      <th>genres</th>\n",
       "      <th>language</th>\n",
       "      <th>pages</th>\n",
       "      <th>predicted_rating</th>\n",
       "    </tr>\n",
       "    <tr>\n",
       "      <th>book_id</th>\n",
       "      <th></th>\n",
       "      <th></th>\n",
       "      <th></th>\n",
       "      <th></th>\n",
       "      <th></th>\n",
       "      <th></th>\n",
       "      <th></th>\n",
       "      <th></th>\n",
       "      <th></th>\n",
       "      <th></th>\n",
       "      <th></th>\n",
       "      <th></th>\n",
       "      <th></th>\n",
       "      <th></th>\n",
       "    </tr>\n",
       "  </thead>\n",
       "  <tbody>\n",
       "    <tr>\n",
       "      <th>143</th>\n",
       "      <td>Anthony Doerr</td>\n",
       "      <td>2014.0</td>\n",
       "      <td>All the Light We Cannot See</td>\n",
       "      <td>4.31</td>\n",
       "      <td>470001</td>\n",
       "      <td>6209</td>\n",
       "      <td>14527</td>\n",
       "      <td>61020</td>\n",
       "      <td>185239</td>\n",
       "      <td>280832</td>\n",
       "      <td>['fantasy', 'fiction', 'classics', 'young-adult']</td>\n",
       "      <td>eng</td>\n",
       "      <td>176.0</td>\n",
       "      <td>5</td>\n",
       "    </tr>\n",
       "    <tr>\n",
       "      <th>146</th>\n",
       "      <td>Donna Tartt</td>\n",
       "      <td>2013.0</td>\n",
       "      <td>The Goldfinch</td>\n",
       "      <td>3.87</td>\n",
       "      <td>396756</td>\n",
       "      <td>19164</td>\n",
       "      <td>35300</td>\n",
       "      <td>93459</td>\n",
       "      <td>153459</td>\n",
       "      <td>162465</td>\n",
       "      <td>['classics', 'fiction', 'philosophy']</td>\n",
       "      <td>eng</td>\n",
       "      <td>123.0</td>\n",
       "      <td>5</td>\n",
       "    </tr>\n",
       "    <tr>\n",
       "      <th>165</th>\n",
       "      <td>George R.R. Martin</td>\n",
       "      <td>2005.0</td>\n",
       "      <td>A Feast for Crows</td>\n",
       "      <td>4.10</td>\n",
       "      <td>428186</td>\n",
       "      <td>3170</td>\n",
       "      <td>18574</td>\n",
       "      <td>94401</td>\n",
       "      <td>175973</td>\n",
       "      <td>189012</td>\n",
       "      <td>['fantasy', 'young-adult', 'paranormal', 'roma...</td>\n",
       "      <td>eng</td>\n",
       "      <td>481.0</td>\n",
       "      <td>5</td>\n",
       "    </tr>\n",
       "    <tr>\n",
       "      <th>193</th>\n",
       "      <td>Malcolm Gladwell</td>\n",
       "      <td>2008.0</td>\n",
       "      <td>Outliers: The Story of Success</td>\n",
       "      <td>4.11</td>\n",
       "      <td>353011</td>\n",
       "      <td>4494</td>\n",
       "      <td>12545</td>\n",
       "      <td>62510</td>\n",
       "      <td>148978</td>\n",
       "      <td>140599</td>\n",
       "      <td>['fantasy', 'young-adult', 'fiction']</td>\n",
       "      <td>eng</td>\n",
       "      <td>320.0</td>\n",
       "      <td>5</td>\n",
       "    </tr>\n",
       "    <tr>\n",
       "      <th>250</th>\n",
       "      <td>R.J. Palacio</td>\n",
       "      <td>2012.0</td>\n",
       "      <td>Wonder</td>\n",
       "      <td>4.43</td>\n",
       "      <td>228538</td>\n",
       "      <td>4504</td>\n",
       "      <td>7833</td>\n",
       "      <td>34567</td>\n",
       "      <td>105977</td>\n",
       "      <td>224910</td>\n",
       "      <td>['poetry', 'classics', 'fiction', 'young-adult']</td>\n",
       "      <td>eng</td>\n",
       "      <td>176.0</td>\n",
       "      <td>5</td>\n",
       "    </tr>\n",
       "    <tr>\n",
       "      <th>307</th>\n",
       "      <td>Patrick Rothfuss</td>\n",
       "      <td>2011.0</td>\n",
       "      <td>The Wise Man's Fear</td>\n",
       "      <td>4.57</td>\n",
       "      <td>245686</td>\n",
       "      <td>1486</td>\n",
       "      <td>4018</td>\n",
       "      <td>17932</td>\n",
       "      <td>66415</td>\n",
       "      <td>192498</td>\n",
       "      <td>['science-fiction', 'fiction', 'fantasy', 'cla...</td>\n",
       "      <td>eng</td>\n",
       "      <td>815.0</td>\n",
       "      <td>5</td>\n",
       "    </tr>\n",
       "    <tr>\n",
       "      <th>318</th>\n",
       "      <td>Christina Baker Kline</td>\n",
       "      <td>2013.0</td>\n",
       "      <td>Orphan Train</td>\n",
       "      <td>4.14</td>\n",
       "      <td>226091</td>\n",
       "      <td>1703</td>\n",
       "      <td>6769</td>\n",
       "      <td>42434</td>\n",
       "      <td>116003</td>\n",
       "      <td>97059</td>\n",
       "      <td>['young-adult', 'contemporary', 'mystery', 'fi...</td>\n",
       "      <td>eng</td>\n",
       "      <td>242.0</td>\n",
       "      <td>5</td>\n",
       "    </tr>\n",
       "    <tr>\n",
       "      <th>437</th>\n",
       "      <td>Sue Monk Kidd</td>\n",
       "      <td>2014.0</td>\n",
       "      <td>The Invention of Wings</td>\n",
       "      <td>4.23</td>\n",
       "      <td>168006</td>\n",
       "      <td>1466</td>\n",
       "      <td>4021</td>\n",
       "      <td>25745</td>\n",
       "      <td>80524</td>\n",
       "      <td>82018</td>\n",
       "      <td>['young-adult', 'romance', 'contemporary', 'fi...</td>\n",
       "      <td>eng</td>\n",
       "      <td>297.0</td>\n",
       "      <td>5</td>\n",
       "    </tr>\n",
       "    <tr>\n",
       "      <th>482</th>\n",
       "      <td>Kathleen Grissom</td>\n",
       "      <td>2010.0</td>\n",
       "      <td>The Kitchen House</td>\n",
       "      <td>4.18</td>\n",
       "      <td>168082</td>\n",
       "      <td>1830</td>\n",
       "      <td>5689</td>\n",
       "      <td>26149</td>\n",
       "      <td>71058</td>\n",
       "      <td>74551</td>\n",
       "      <td>['art', 'nonfiction']</td>\n",
       "      <td>eng</td>\n",
       "      <td>240.0</td>\n",
       "      <td>5</td>\n",
       "    </tr>\n",
       "    <tr>\n",
       "      <th>504</th>\n",
       "      <td>Francine Rivers</td>\n",
       "      <td>1991.0</td>\n",
       "      <td>Redeeming Love</td>\n",
       "      <td>4.48</td>\n",
       "      <td>157506</td>\n",
       "      <td>2949</td>\n",
       "      <td>4277</td>\n",
       "      <td>13328</td>\n",
       "      <td>33009</td>\n",
       "      <td>110074</td>\n",
       "      <td>['classics', 'science-fiction', 'fiction', 'fa...</td>\n",
       "      <td>eng</td>\n",
       "      <td>192.0</td>\n",
       "      <td>5</td>\n",
       "    </tr>\n",
       "  </tbody>\n",
       "</table>\n",
       "</div>"
      ],
      "text/plain": [
       "                       authors    year                           title  \\\n",
       "book_id                                                                  \n",
       "143              Anthony Doerr  2014.0     All the Light We Cannot See   \n",
       "146                Donna Tartt  2013.0                   The Goldfinch   \n",
       "165         George R.R. Martin  2005.0               A Feast for Crows   \n",
       "193           Malcolm Gladwell  2008.0  Outliers: The Story of Success   \n",
       "250               R.J. Palacio  2012.0                          Wonder   \n",
       "307           Patrick Rothfuss  2011.0             The Wise Man's Fear   \n",
       "318      Christina Baker Kline  2013.0                    Orphan Train   \n",
       "437              Sue Monk Kidd  2014.0          The Invention of Wings   \n",
       "482           Kathleen Grissom  2010.0               The Kitchen House   \n",
       "504            Francine Rivers  1991.0                  Redeeming Love   \n",
       "\n",
       "         average_rating  num_ratings  num_1  num_2  num_3   num_4   num_5  \\\n",
       "book_id                                                                     \n",
       "143                4.31       470001   6209  14527  61020  185239  280832   \n",
       "146                3.87       396756  19164  35300  93459  153459  162465   \n",
       "165                4.10       428186   3170  18574  94401  175973  189012   \n",
       "193                4.11       353011   4494  12545  62510  148978  140599   \n",
       "250                4.43       228538   4504   7833  34567  105977  224910   \n",
       "307                4.57       245686   1486   4018  17932   66415  192498   \n",
       "318                4.14       226091   1703   6769  42434  116003   97059   \n",
       "437                4.23       168006   1466   4021  25745   80524   82018   \n",
       "482                4.18       168082   1830   5689  26149   71058   74551   \n",
       "504                4.48       157506   2949   4277  13328   33009  110074   \n",
       "\n",
       "                                                    genres language  pages  \\\n",
       "book_id                                                                      \n",
       "143      ['fantasy', 'fiction', 'classics', 'young-adult']      eng  176.0   \n",
       "146                  ['classics', 'fiction', 'philosophy']      eng  123.0   \n",
       "165      ['fantasy', 'young-adult', 'paranormal', 'roma...      eng  481.0   \n",
       "193                  ['fantasy', 'young-adult', 'fiction']      eng  320.0   \n",
       "250       ['poetry', 'classics', 'fiction', 'young-adult']      eng  176.0   \n",
       "307      ['science-fiction', 'fiction', 'fantasy', 'cla...      eng  815.0   \n",
       "318      ['young-adult', 'contemporary', 'mystery', 'fi...      eng  242.0   \n",
       "437      ['young-adult', 'romance', 'contemporary', 'fi...      eng  297.0   \n",
       "482                                  ['art', 'nonfiction']      eng  240.0   \n",
       "504      ['classics', 'science-fiction', 'fiction', 'fa...      eng  192.0   \n",
       "\n",
       "         predicted_rating  \n",
       "book_id                    \n",
       "143                     5  \n",
       "146                     5  \n",
       "165                     5  \n",
       "193                     5  \n",
       "250                     5  \n",
       "307                     5  \n",
       "318                     5  \n",
       "437                     5  \n",
       "482                     5  \n",
       "504                     5  "
      ]
     },
     "metadata": {},
     "output_type": "display_data"
    }
   ],
   "source": [
    "query_user_id = 5\n",
    "top_n_recommendations_with_ratings = get_top_n_recommendations(query_user_id, knn_baseline_item, n=10)\n",
    "top_n_recommendations, predicted_ratings = zip(*top_n_recommendations_with_ratings)\n",
    "\n",
    "# Display the top rated books by the user\n",
    "user_book_ratings = ratings_df[ratings_df['user_id'] == query_user_id]\n",
    "user_book_ratings = user_book_ratings.merge(books_df, left_on='book_id', right_index=True, how='inner')\n",
    "user_book_ratings = user_book_ratings[['title', 'authors', 'average_rating', 'rating', 'genres', 'year', 'language', 'pages']].sort_values('rating', ascending=False)\n",
    "print(\"Top rated books by user:\")\n",
    "display(user_book_ratings)\n",
    "\n",
    "# Display the information of the recommended books\n",
    "recommended_books = books_df.loc[list(top_n_recommendations)]\n",
    "recommended_books['predicted_rating'] = predicted_ratings\n",
    "print(\"\\nRecommended books:\")\n",
    "display(recommended_books)"
   ]
  },
  {
   "attachments": {},
   "cell_type": "markdown",
   "metadata": {},
   "source": [
    "## Evaluating top k recommendations"
   ]
  },
  {
   "cell_type": "code",
   "execution_count": 7,
   "metadata": {},
   "outputs": [
    {
     "name": "stdout",
     "output_type": "stream",
     "text": [
      "Estimating biases using als...\n",
      "Computing the msd similarity matrix...\n",
      "Done computing similarity matrix.\n"
     ]
    },
    {
     "data": {
      "text/plain": [
       "<surprise.prediction_algorithms.knns.KNNBaseline at 0x1ac6bbefb80>"
      ]
     },
     "execution_count": 7,
     "metadata": {},
     "output_type": "execute_result"
    }
   ],
   "source": [
    "knn_baseline = KNNBaseline(sim_options={'user_based': True})\n",
    "knn_baseline.fit(train)"
   ]
  },
  {
   "cell_type": "code",
   "execution_count": 11,
   "metadata": {},
   "outputs": [
    {
     "name": "stdout",
     "output_type": "stream",
     "text": [
      "Computing the msd similarity matrix...\n",
      "Done computing similarity matrix.\n"
     ]
    },
    {
     "data": {
      "text/plain": [
       "<surprise.prediction_algorithms.knns.KNNWithMeans at 0x1ac6fd0a1a0>"
      ]
     },
     "execution_count": 11,
     "metadata": {},
     "output_type": "execute_result"
    }
   ],
   "source": [
    "knn_means = KNNWithMeans(sim_options={'user_based': True})\n",
    "knn_means.fit(train)"
   ]
  },
  {
   "attachments": {},
   "cell_type": "markdown",
   "metadata": {},
   "source": [
    "Get top n recommendations for each user"
   ]
  },
  {
   "cell_type": "code",
   "execution_count": 72,
   "metadata": {},
   "outputs": [
    {
     "name": "stderr",
     "output_type": "stream",
     "text": [
      "Getting recommendations for users: 100%|██████████| 5000/5000 [1:07:44<00:00,  1.23it/s]\n"
     ]
    }
   ],
   "source": [
    "from tqdm import tqdm\n",
    "\n",
    "def get_top_recommendation_for_user(user_id, all_books, model, n=500):\n",
    "    user_rated_books = set(train_df[train_df['user_id'] == user_id]['book_id'])\n",
    "    books_not_yet_rated = list(all_books - user_rated_books) # Remove only from train!\n",
    "    \n",
    "    predictions = [model.predict(user_id, book_id) for book_id in books_not_yet_rated]\n",
    "    sorted_predictions = sorted(predictions, key=lambda x: x.est, reverse=True)\n",
    "    return [(prediction.iid, prediction.est) for prediction in sorted_predictions[:n]]\n",
    "\n",
    "def get_recommendations_for_all_users(user_ids, model, n=500):\n",
    "    all_book_ids = set(ratings_df['book_id'].unique())\n",
    "    recommendations = {}\n",
    "    for user_id in tqdm(user_ids, desc=\"Getting recommendations for users\"):\n",
    "        top_n_recommendations = get_top_recommendation_for_user(user_id, all_book_ids, model, n=n)\n",
    "        recommendations[user_id] = [book_id for (book_id, _) in top_n_recommendations]\n",
    "    return recommendations\n",
    "\n",
    "user_ids = ratings_df['user_id'].unique()\n",
    "sample_user_ids = random.sample(list(user_ids), 5000)\n",
    "recommendations = get_recommendations_for_all_users(sample_user_ids, knn_baseline, n=500)"
   ]
  },
  {
   "cell_type": "code",
   "execution_count": 31,
   "metadata": {},
   "outputs": [],
   "source": [
    "with open('knn_means_recommendation.pkl', 'wb') as f:\n",
    "    pickle.dump(recommendations, f)"
   ]
  },
  {
   "attachments": {},
   "cell_type": "markdown",
   "metadata": {},
   "source": [
    "Calculate precision and recall at K"
   ]
  },
  {
   "cell_type": "code",
   "execution_count": 86,
   "metadata": {},
   "outputs": [],
   "source": [
    "def precision_recall_at_k(user_id, top_n_recommendations, k= 100):\n",
    "    relevant_items  = set(test_df[(test_df.user_id == user_id) & (test_df.rating>=3)]['book_id'])\n",
    "    if len (relevant_items ) == 0: \n",
    "        return -1, -1 # Can not evaluate this user if no relavant items in test set\n",
    "    true_positives = len(relevant_items.intersection(set(top_n_recommendations[:k])))\n",
    "\n",
    "    false_positives = len(top_n_recommendations) - true_positives\n",
    "    false_negatives = len(relevant_items) - true_positives\n",
    "\n",
    "    tp, fp, fn = true_positives, false_positives, false_negatives\n",
    "\n",
    "    precision = tp / (tp + fp) if tp + fp > 0 else 0\n",
    "    recall = tp / (tp + fn) if tp + fn > 0 else 0\n",
    "    return precision, recall"
   ]
  },
  {
   "cell_type": "code",
   "execution_count": 90,
   "metadata": {},
   "outputs": [
    {
     "name": "stderr",
     "output_type": "stream",
     "text": [
      "Evaluating recommendations: 100%|██████████| 5000/5000 [00:06<00:00, 819.11it/s]"
     ]
    },
    {
     "name": "stdout",
     "output_type": "stream",
     "text": [
      "Precision@200: 0.00000923\n",
      "Recall@200: 0.00125178\n"
     ]
    },
    {
     "name": "stderr",
     "output_type": "stream",
     "text": [
      "\n"
     ]
    }
   ],
   "source": [
    "k = 200\n",
    "\n",
    "total_precision = 0\n",
    "total_recall = 0\n",
    "count = len(user_ids)\n",
    "\n",
    "for user_id in tqdm(sample_user_ids, desc=\"Evaluating recommendations\"):\n",
    "    top_n_recommendations = recommendations[user_id]\n",
    "    precision, recall = precision_recall_at_k(user_id, top_n_recommendations, k)\n",
    "\n",
    "    if precision > 0:\n",
    "        total_precision += precision\n",
    "        total_recall += recall\n",
    "    elif precision < 0: # There were no relavant items\n",
    "        count -=1\n",
    "\n",
    "average_precision = total_precision / count\n",
    "average_recall = total_recall / count\n",
    "\n",
    "print(f\"Precision@{k}: {average_precision:.8f}\")\n",
    "print(f\"Recall@{k}: {average_recall:.8f}\")"
   ]
  }
 ],
 "metadata": {
  "kernelspec": {
   "display_name": "Python 3",
   "language": "python",
   "name": "python3"
  },
  "language_info": {
   "codemirror_mode": {
    "name": "ipython",
    "version": 3
   },
   "file_extension": ".py",
   "mimetype": "text/x-python",
   "name": "python",
   "nbconvert_exporter": "python",
   "pygments_lexer": "ipython3",
   "version": "3.10.4"
  },
  "orig_nbformat": 4
 },
 "nbformat": 4,
 "nbformat_minor": 2
}
